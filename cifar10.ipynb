{
  "nbformat": 4,
  "nbformat_minor": 0,
  "metadata": {
    "colab": {
      "name": "cifar10.ipynb",
      "provenance": [],
      "include_colab_link": true
    },
    "kernelspec": {
      "name": "python3",
      "display_name": "Python 3"
    },
    "accelerator": "GPU"
  },
  "cells": [
    {
      "cell_type": "markdown",
      "metadata": {
        "id": "view-in-github",
        "colab_type": "text"
      },
      "source": [
        "<a href=\"https://colab.research.google.com/github/Va2mne/CIFAR-10/blob/master/cifar10.ipynb\" target=\"_parent\"><img src=\"https://colab.research.google.com/assets/colab-badge.svg\" alt=\"Open In Colab\"/></a>"
      ]
    },
    {
      "cell_type": "markdown",
      "metadata": {
        "id": "ps6VA4r1C_wm",
        "colab_type": "text"
      },
      "source": [
        "# Распознавание объектов на изображениях из набора данных CIFAR-10\n",
        "\n",
        "Пример из курса [\"Программирование глубоких нейронных сетей на Python\"](https://www.asozykin.ru/courses/nnpython).\n",
        "\n",
        "Чтобы запускать и редактировать код, сохраните копию этого ноутбука себе (File->Save a copy in Drive...). Свою копию вы сможете изменять и запускать."
      ]
    },
    {
      "cell_type": "code",
      "metadata": {
        "id": "T6hmBuIyjRUu",
        "colab_type": "code",
        "colab": {
          "base_uri": "https://localhost:8080/",
          "height": 34
        },
        "outputId": "4073e259-a15f-4543-9fa4-2eb85a0c925e"
      },
      "source": [
        "import numpy as np\n",
        "from keras.datasets import cifar10\n",
        "from keras.models import Sequential\n",
        "from keras.layers import Dense, Flatten\n",
        "from keras.layers import Dropout\n",
        "from keras.layers.convolutional import Conv2D, MaxPooling2D\n",
        "from keras.utils import np_utils\n",
        "from keras.preprocessing import image\n",
        "import matplotlib.pyplot as plt\n",
        "%matplotlib inline "
      ],
      "execution_count": null,
      "outputs": [
        {
          "output_type": "stream",
          "text": [
            "Using TensorFlow backend.\n"
          ],
          "name": "stderr"
        }
      ]
    },
    {
      "cell_type": "code",
      "metadata": {
        "id": "PfEKaHglj2VL",
        "colab_type": "code",
        "colab": {}
      },
      "source": [
        "# Размер мини-выборки\n",
        "batch_size = 128\n",
        "# Количество классов изображений\n",
        "nb_classes = 10\n",
        "# Количество эпох для обучения\n",
        "nb_epoch = 25\n",
        "# Размер изображений\n",
        "img_rows, img_cols = 32, 32\n",
        "# Количество каналов в изображении: RGB\n",
        "img_channels = 3\n",
        "# Названия классов из набора данных CIFAR-10\n",
        "classes=['самолет', 'автомобиль', 'птица', 'кот', 'олень', 'собака', 'лягушка', 'лошадь', 'корабль', 'грузовик']"
      ],
      "execution_count": null,
      "outputs": []
    },
    {
      "cell_type": "code",
      "metadata": {
        "id": "RmNt3ehPW40Z",
        "colab_type": "code",
        "colab": {}
      },
      "source": [
        ""
      ],
      "execution_count": null,
      "outputs": []
    },
    {
      "cell_type": "markdown",
      "metadata": {
        "id": "Tt2d0pKXDR1c",
        "colab_type": "text"
      },
      "source": [
        "## Подготовка данных"
      ]
    },
    {
      "cell_type": "markdown",
      "metadata": {
        "id": "kzQx_ZOZDNYV",
        "colab_type": "text"
      },
      "source": [
        "**Загружаем данные**"
      ]
    },
    {
      "cell_type": "code",
      "metadata": {
        "id": "ARLcknFUj4Oc",
        "colab_type": "code",
        "colab": {
          "base_uri": "https://localhost:8080/",
          "height": 50
        },
        "outputId": "d2563c05-eba0-49d8-a5db-54f366359aee"
      },
      "source": [
        "(X_train, y_train), (X_test, y_test) = cifar10.load_data()"
      ],
      "execution_count": null,
      "outputs": [
        {
          "output_type": "stream",
          "text": [
            "Downloading data from https://www.cs.toronto.edu/~kriz/cifar-10-python.tar.gz\n",
            "170500096/170498071 [==============================] - 13s 0us/step\n"
          ],
          "name": "stdout"
        }
      ]
    },
    {
      "cell_type": "markdown",
      "metadata": {
        "id": "1EJSbfDoDrnV",
        "colab_type": "text"
      },
      "source": [
        "**Просмотр примеров данных**"
      ]
    },
    {
      "cell_type": "code",
      "metadata": {
        "id": "KCXgj92ckE-J",
        "colab_type": "code",
        "colab": {
          "base_uri": "https://localhost:8080/",
          "height": 300
        },
        "outputId": "bf251a38-21eb-45a6-d3b9-4532147c835e"
      },
      "source": [
        "n = 1\n",
        "plt.imshow(X_train[n])\n",
        "plt.show()\n",
        "print(\"Номер класса:\", y_train[n])\n",
        "print(\"Тип объекта:\", classes[y_train[n][0]])"
      ],
      "execution_count": null,
      "outputs": [
        {
          "output_type": "display_data",
          "data": {
            "image/png": "[encoded data removed]",
            "text/plain": [
              "<Figure size 432x288 with 1 Axes>"
            ]
          },
          "metadata": {
            "tags": [],
            "needs_background": "light"
          }
        },
        {
          "output_type": "stream",
          "text": [
            "Номер класса: [9]\n",
            "Тип объекта: грузовик\n"
          ],
          "name": "stdout"
        }
      ]
    },
    {
      "cell_type": "markdown",
      "metadata": {
        "id": "2kyCZJECE5Vu",
        "colab_type": "text"
      },
      "source": [
        "**Нормализуем данные**"
      ]
    },
    {
      "cell_type": "code",
      "metadata": {
        "id": "C33r-0yNkJUA",
        "colab_type": "code",
        "colab": {}
      },
      "source": [
        "X_train = X_train.astype('float32')\n",
        "X_test = X_test.astype('float32')\n",
        "X_train /= 255\n",
        "X_test /= 255"
      ],
      "execution_count": null,
      "outputs": []
    },
    {
      "cell_type": "markdown",
      "metadata": {
        "id": "qj07Mr7CE9Zt",
        "colab_type": "text"
      },
      "source": [
        "**Преобразуем правильные ответы в формат one hot encoding**"
      ]
    },
    {
      "cell_type": "code",
      "metadata": {
        "id": "VHzeTThQFEs1",
        "colab_type": "code",
        "colab": {}
      },
      "source": [
        "Y_train = np_utils.to_categorical(y_train, nb_classes)\n",
        "Y_test = np_utils.to_categorical(y_test, nb_classes)"
      ],
      "execution_count": null,
      "outputs": []
    },
    {
      "cell_type": "markdown",
      "metadata": {
        "id": "mnT8h77PFLXu",
        "colab_type": "text"
      },
      "source": [
        "## Создаем нейронную сеть"
      ]
    },
    {
      "cell_type": "code",
      "metadata": {
        "id": "U0MLXRCqkPGC",
        "colab_type": "code",
        "colab": {}
      },
      "source": [
        "# Создаем последовательную модель\n",
        "model = Sequential()\n",
        "# Первый сверточный слой\n",
        "model.add(Conv2D(32, (3, 3), padding='same',\n",
        "                        input_shape=(32, 32, 3), activation='relu'))\n",
        "# Второй сверточный слой\n",
        "model.add(Conv2D(32, (3, 3), activation='relu', padding='same'))\n",
        "# Первый слой подвыборки\n",
        "model.add(MaxPooling2D(pool_size=(2, 2)))\n",
        "# Слой регуляризации Dropout\n",
        "model.add(Dropout(0.25))\n",
        "\n",
        "# Третий сверточный слой\n",
        "model.add(Conv2D(64, (3, 3), padding='same', activation='relu'))\n",
        "# Четвертый сверточный слой\n",
        "model.add(Conv2D(64, (3, 3), activation='relu'))\n",
        "# Второй слой подвыборки\n",
        "model.add(MaxPooling2D(pool_size=(2, 2)))\n",
        "# Слой регуляризации Dropout\n",
        "model.add(Dropout(0.25))\n",
        "# Слой преобразования данных из 2D представления в плоское\n",
        "model.add(Flatten())\n",
        "# Полносвязный слой для классификации\n",
        "model.add(Dense(512, activation='relu'))\n",
        "# Слой регуляризации Dropout\n",
        "model.add(Dropout(0.5))\n",
        "# Выходной полносвязный слой\n",
        "model.add(Dense(nb_classes, activation='softmax'))"
      ],
      "execution_count": null,
      "outputs": []
    },
    {
      "cell_type": "markdown",
      "metadata": {
        "id": "hBCmSlqqFgvd",
        "colab_type": "text"
      },
      "source": [
        "**Печатаем информацию о сети**"
      ]
    },
    {
      "cell_type": "code",
      "metadata": {
        "id": "QwTq8WR1Frx9",
        "colab_type": "code",
        "colab": {
          "base_uri": "https://localhost:8080/",
          "height": 571
        },
        "outputId": "6a2d33b2-e998-44b9-aca9-c7b6d59a50ce"
      },
      "source": [
        "print(model.summary())"
      ],
      "execution_count": null,
      "outputs": [
        {
          "output_type": "stream",
          "text": [
            "Model: \"sequential_1\"\n",
            "_________________________________________________________________\n",
            "Layer (type)                 Output Shape              Param #   \n",
            "=================================================================\n",
            "conv2d_1 (Conv2D)            (None, 32, 32, 32)        896       \n",
            "_________________________________________________________________\n",
            "conv2d_2 (Conv2D)            (None, 32, 32, 32)        9248      \n",
            "_________________________________________________________________\n",
            "max_pooling2d_1 (MaxPooling2 (None, 16, 16, 32)        0         \n",
            "_________________________________________________________________\n",
            "dropout_1 (Dropout)          (None, 16, 16, 32)        0         \n",
            "_________________________________________________________________\n",
            "conv2d_3 (Conv2D)            (None, 16, 16, 64)        18496     \n",
            "_________________________________________________________________\n",
            "conv2d_4 (Conv2D)            (None, 14, 14, 64)        36928     \n",
            "_________________________________________________________________\n",
            "max_pooling2d_2 (MaxPooling2 (None, 7, 7, 64)          0         \n",
            "_________________________________________________________________\n",
            "dropout_2 (Dropout)          (None, 7, 7, 64)          0         \n",
            "_________________________________________________________________\n",
            "flatten_1 (Flatten)          (None, 3136)              0         \n",
            "_________________________________________________________________\n",
            "dense_1 (Dense)              (None, 512)               1606144   \n",
            "_________________________________________________________________\n",
            "dropout_3 (Dropout)          (None, 512)               0         \n",
            "_________________________________________________________________\n",
            "dense_2 (Dense)              (None, 10)                5130      \n",
            "=================================================================\n",
            "Total params: 1,676,842\n",
            "Trainable params: 1,676,842\n",
            "Non-trainable params: 0\n",
            "_________________________________________________________________\n",
            "None\n"
          ],
          "name": "stdout"
        }
      ]
    },
    {
      "cell_type": "markdown",
      "metadata": {
        "id": "iZ8E1aF0FS1s",
        "colab_type": "text"
      },
      "source": [
        "**Компилируем модель**"
      ]
    },
    {
      "cell_type": "code",
      "metadata": {
        "id": "VyVlJMdGkrv-",
        "colab_type": "code",
        "colab": {}
      },
      "source": [
        "model.compile(loss='categorical_crossentropy',\n",
        "              optimizer='adam',\n",
        "              metrics=['accuracy'])"
      ],
      "execution_count": null,
      "outputs": []
    },
    {
      "cell_type": "markdown",
      "metadata": {
        "id": "Aq23si1YFYhF",
        "colab_type": "text"
      },
      "source": [
        "## Обучаем нейронную сеть"
      ]
    },
    {
      "cell_type": "code",
      "metadata": {
        "id": "kyH5Ec9RkznF",
        "colab_type": "code",
        "colab": {
          "base_uri": "https://localhost:8080/",
          "height": 874
        },
        "outputId": "6f6fc930-2f7f-4a13-80f2-531ec73f93aa"
      },
      "source": [
        "history = model.fit(X_train, Y_train,\n",
        "              batch_size=batch_size,\n",
        "              epochs=nb_epoch,\n",
        "              validation_split=0.1,\n",
        "              shuffle=True,\n",
        "              verbose=2)"
      ],
      "execution_count": null,
      "outputs": [
        {
          "output_type": "stream",
          "text": [
            "Train on 45000 samples, validate on 5000 samples\n",
            "Epoch 1/25\n",
            " - 6s - loss: 0.3341 - accuracy: 0.8811 - val_loss: 0.6180 - val_accuracy: 0.8104\n",
            "Epoch 2/25\n",
            " - 6s - loss: 0.3335 - accuracy: 0.8807 - val_loss: 0.6155 - val_accuracy: 0.8110\n",
            "Epoch 3/25\n",
            " - 6s - loss: 0.3146 - accuracy: 0.8888 - val_loss: 0.6516 - val_accuracy: 0.8016\n",
            "Epoch 4/25\n",
            " - 6s - loss: 0.3056 - accuracy: 0.8903 - val_loss: 0.6247 - val_accuracy: 0.8110\n",
            "Epoch 5/25\n",
            " - 6s - loss: 0.3103 - accuracy: 0.8905 - val_loss: 0.6238 - val_accuracy: 0.8108\n",
            "Epoch 6/25\n",
            " - 6s - loss: 0.2951 - accuracy: 0.8955 - val_loss: 0.6360 - val_accuracy: 0.8062\n",
            "Epoch 7/25\n",
            " - 6s - loss: 0.2899 - accuracy: 0.8963 - val_loss: 0.6450 - val_accuracy: 0.8106\n",
            "Epoch 8/25\n",
            " - 6s - loss: 0.2859 - accuracy: 0.8981 - val_loss: 0.6394 - val_accuracy: 0.8160\n",
            "Epoch 9/25\n",
            " - 6s - loss: 0.2767 - accuracy: 0.9036 - val_loss: 0.6568 - val_accuracy: 0.8120\n",
            "Epoch 10/25\n",
            " - 6s - loss: 0.2858 - accuracy: 0.8974 - val_loss: 0.6455 - val_accuracy: 0.8088\n",
            "Epoch 11/25\n",
            " - 6s - loss: 0.2718 - accuracy: 0.9035 - val_loss: 0.6700 - val_accuracy: 0.8116\n",
            "Epoch 12/25\n",
            " - 6s - loss: 0.2673 - accuracy: 0.9060 - val_loss: 0.6602 - val_accuracy: 0.8108\n",
            "Epoch 13/25\n",
            " - 6s - loss: 0.2626 - accuracy: 0.9068 - val_loss: 0.6634 - val_accuracy: 0.8090\n",
            "Epoch 14/25\n",
            " - 6s - loss: 0.2580 - accuracy: 0.9076 - val_loss: 0.6501 - val_accuracy: 0.8098\n",
            "Epoch 15/25\n",
            " - 6s - loss: 0.2575 - accuracy: 0.9089 - val_loss: 0.6660 - val_accuracy: 0.8094\n",
            "Epoch 16/25\n",
            " - 6s - loss: 0.2543 - accuracy: 0.9105 - val_loss: 0.6773 - val_accuracy: 0.8070\n",
            "Epoch 17/25\n",
            " - 6s - loss: 0.2487 - accuracy: 0.9117 - val_loss: 0.6484 - val_accuracy: 0.8118\n",
            "Epoch 18/25\n",
            " - 6s - loss: 0.2463 - accuracy: 0.9124 - val_loss: 0.6414 - val_accuracy: 0.8150\n",
            "Epoch 19/25\n",
            " - 6s - loss: 0.2490 - accuracy: 0.9120 - val_loss: 0.6805 - val_accuracy: 0.8098\n",
            "Epoch 20/25\n",
            " - 6s - loss: 0.2396 - accuracy: 0.9151 - val_loss: 0.6889 - val_accuracy: 0.8130\n",
            "Epoch 21/25\n",
            " - 6s - loss: 0.2444 - accuracy: 0.9126 - val_loss: 0.6550 - val_accuracy: 0.8116\n",
            "Epoch 22/25\n",
            " - 6s - loss: 0.2415 - accuracy: 0.9150 - val_loss: 0.6699 - val_accuracy: 0.8172\n",
            "Epoch 23/25\n",
            " - 6s - loss: 0.2300 - accuracy: 0.9190 - val_loss: 0.6763 - val_accuracy: 0.8178\n",
            "Epoch 24/25\n",
            " - 6s - loss: 0.2317 - accuracy: 0.9191 - val_loss: 0.6750 - val_accuracy: 0.8096\n",
            "Epoch 25/25\n",
            " - 6s - loss: 0.2327 - accuracy: 0.9174 - val_loss: 0.6771 - val_accuracy: 0.8114\n"
          ],
          "name": "stdout"
        }
      ]
    },
    {
      "cell_type": "markdown",
      "metadata": {
        "id": "bHssPqMqF9sv",
        "colab_type": "text"
      },
      "source": [
        "## Оцениваем качетсво обучения сети"
      ]
    },
    {
      "cell_type": "code",
      "metadata": {
        "id": "5y4AHwlNou5y",
        "colab_type": "code",
        "colab": {
          "base_uri": "https://localhost:8080/",
          "height": 34
        },
        "outputId": "c7164cd9-7113-48b3-8ba8-784dc2d6a07c"
      },
      "source": [
        "# Оцениваем качество обучения модели на тестовых данных\n",
        "scores = model.evaluate(X_test, Y_test, verbose=0)\n",
        "print(\"Точность работы на тестовых данных: %.2f%%\" % (scores[1]*100))"
      ],
      "execution_count": null,
      "outputs": [
        {
          "output_type": "stream",
          "text": [
            "Точность работы на тестовых данных: 80.01%\n"
          ],
          "name": "stdout"
        }
      ]
    },
    {
      "cell_type": "code",
      "metadata": {
        "id": "Z_xxp2UrNJvz",
        "colab_type": "code",
        "colab": {
          "base_uri": "https://localhost:8080/",
          "height": 229
        },
        "outputId": "51b79e28-a99f-4faf-a04a-9fb6daac17c4"
      },
      "source": [
        "history_dict = history.history\n",
        "acc_values = history_dict['acc']\n",
        "val_acc_values = history_dict['val_acc']\n",
        "epochs = range(1, len(acc_values) + 1)\n",
        "plt.plot(epochs, acc_values, 'bo', label='Training acc')\n",
        "plt.plot(epochs, val_acc_values, 'b', label='Validation acc')\n",
        "plt.xlabel('Epochs')\n",
        "plt.ylabel('Accuracy')\n",
        "plt.legend()\n",
        "plt.show()"
      ],
      "execution_count": null,
      "outputs": [
        {
          "output_type": "error",
          "ename": "KeyError",
          "evalue": "ignored",
          "traceback": [
            "\u001b[0;31m---------------------------------------------------------------------------\u001b[0m",
            "\u001b[0;31mKeyError\u001b[0m                                  Traceback (most recent call last)",
            "\u001b[0;32m<ipython-input-22-495567272844>\u001b[0m in \u001b[0;36m<module>\u001b[0;34m()\u001b[0m\n\u001b[1;32m      1\u001b[0m \u001b[0mhistory_dict\u001b[0m \u001b[0;34m=\u001b[0m \u001b[0mhistory\u001b[0m\u001b[0;34m.\u001b[0m\u001b[0mhistory\u001b[0m\u001b[0;34m\u001b[0m\u001b[0;34m\u001b[0m\u001b[0m\n\u001b[0;32m----> 2\u001b[0;31m \u001b[0macc_values\u001b[0m \u001b[0;34m=\u001b[0m \u001b[0mhistory_dict\u001b[0m\u001b[0;34m[\u001b[0m\u001b[0;34m'acc'\u001b[0m\u001b[0;34m]\u001b[0m\u001b[0;34m\u001b[0m\u001b[0;34m\u001b[0m\u001b[0m\n\u001b[0m\u001b[1;32m      3\u001b[0m \u001b[0mval_acc_values\u001b[0m \u001b[0;34m=\u001b[0m \u001b[0mhistory_dict\u001b[0m\u001b[0;34m[\u001b[0m\u001b[0;34m'val_acc'\u001b[0m\u001b[0;34m]\u001b[0m\u001b[0;34m\u001b[0m\u001b[0;34m\u001b[0m\u001b[0m\n\u001b[1;32m      4\u001b[0m \u001b[0mepochs\u001b[0m \u001b[0;34m=\u001b[0m \u001b[0mrange\u001b[0m\u001b[0;34m(\u001b[0m\u001b[0;36m1\u001b[0m\u001b[0;34m,\u001b[0m \u001b[0mlen\u001b[0m\u001b[0;34m(\u001b[0m\u001b[0macc_values\u001b[0m\u001b[0;34m)\u001b[0m \u001b[0;34m+\u001b[0m \u001b[0;36m1\u001b[0m\u001b[0;34m)\u001b[0m\u001b[0;34m\u001b[0m\u001b[0;34m\u001b[0m\u001b[0m\n\u001b[1;32m      5\u001b[0m \u001b[0mplt\u001b[0m\u001b[0;34m.\u001b[0m\u001b[0mplot\u001b[0m\u001b[0;34m(\u001b[0m\u001b[0mepochs\u001b[0m\u001b[0;34m,\u001b[0m \u001b[0macc_values\u001b[0m\u001b[0;34m,\u001b[0m \u001b[0;34m'bo'\u001b[0m\u001b[0;34m,\u001b[0m \u001b[0mlabel\u001b[0m\u001b[0;34m=\u001b[0m\u001b[0;34m'Training acc'\u001b[0m\u001b[0;34m)\u001b[0m\u001b[0;34m\u001b[0m\u001b[0;34m\u001b[0m\u001b[0m\n",
            "\u001b[0;31mKeyError\u001b[0m: 'acc'"
          ]
        }
      ]
    },
    {
      "cell_type": "markdown",
      "metadata": {
        "id": "9Ax2lw6hRDlm",
        "colab_type": "text"
      },
      "source": [
        "## Сохраняем обученную нейронную сеть"
      ]
    },
    {
      "cell_type": "code",
      "metadata": {
        "id": "uQhkelwPQ_PE",
        "colab_type": "code",
        "colab": {}
      },
      "source": [
        "model_json = model.to_json()\n",
        "json_file = open(\"cifar10_model.json\", \"w\")\n",
        "json_file.write(model_json)\n",
        "json_file.close()\n",
        "model.save_weights(\"cifar10_model.h5\")"
      ],
      "execution_count": null,
      "outputs": []
    },
    {
      "cell_type": "code",
      "metadata": {
        "id": "bn4CEGiURBz7",
        "colab_type": "code",
        "colab": {}
      },
      "source": [
        "!ls"
      ],
      "execution_count": null,
      "outputs": []
    },
    {
      "cell_type": "code",
      "metadata": {
        "id": "rV8R1WhKVpZK",
        "colab_type": "code",
        "colab": {}
      },
      "source": [
        "from google.colab import files"
      ],
      "execution_count": null,
      "outputs": []
    },
    {
      "cell_type": "code",
      "metadata": {
        "id": "udkAZlWbVi7C",
        "colab_type": "code",
        "colab": {}
      },
      "source": [
        "files.download(\"cifar10_model.json\")"
      ],
      "execution_count": null,
      "outputs": []
    },
    {
      "cell_type": "code",
      "metadata": {
        "id": "Q1oY_XT2VvKp",
        "colab_type": "code",
        "colab": {}
      },
      "source": [
        "files.download(\"cifar10_model.h5\")"
      ],
      "execution_count": null,
      "outputs": []
    },
    {
      "cell_type": "markdown",
      "metadata": {
        "id": "CDf9Gw19GIGO",
        "colab_type": "text"
      },
      "source": [
        "## Применяем сеть для распознавания объектов на изображениях"
      ]
    },
    {
      "cell_type": "markdown",
      "metadata": {
        "id": "wFujwhUEGWOG",
        "colab_type": "text"
      },
      "source": [
        "**Просмотр изображения из набора данных для тестирования**"
      ]
    },
    {
      "cell_type": "code",
      "metadata": {
        "id": "bxaxjSOAGOPX",
        "colab_type": "code",
        "colab": {}
      },
      "source": [
        "index=11\n",
        "plt.imshow(toimage(X_test[index]))\n",
        "plt.show()"
      ],
      "execution_count": null,
      "outputs": []
    },
    {
      "cell_type": "markdown",
      "metadata": {
        "id": "ByO-DUMJGc32",
        "colab_type": "text"
      },
      "source": [
        "**Преобразование тестового изображения**"
      ]
    },
    {
      "cell_type": "code",
      "metadata": {
        "id": "kvZbyn6xGhUe",
        "colab_type": "code",
        "colab": {}
      },
      "source": [
        "x = X_test[index]\n",
        "x = np.expand_dims(x, axis=0)"
      ],
      "execution_count": null,
      "outputs": []
    },
    {
      "cell_type": "markdown",
      "metadata": {
        "id": "hxcp2FfPGog1",
        "colab_type": "text"
      },
      "source": [
        "**Запуск распознавания**"
      ]
    },
    {
      "cell_type": "code",
      "metadata": {
        "id": "Ap72-9_kNKU2",
        "colab_type": "code",
        "colab": {}
      },
      "source": [
        "prediction = model.predict(x)"
      ],
      "execution_count": null,
      "outputs": []
    },
    {
      "cell_type": "markdown",
      "metadata": {
        "id": "2Gldpmn2NQ6-",
        "colab_type": "text"
      },
      "source": [
        "**Печатаем результаты распознавания**"
      ]
    },
    {
      "cell_type": "code",
      "metadata": {
        "id": "P7opRiSZNUku",
        "colab_type": "code",
        "colab": {}
      },
      "source": [
        "print(prediction)"
      ],
      "execution_count": null,
      "outputs": []
    },
    {
      "cell_type": "markdown",
      "metadata": {
        "id": "LQTiyEM3NfRG",
        "colab_type": "text"
      },
      "source": [
        "**Преобразуем результаты из формата one hot encoding**"
      ]
    },
    {
      "cell_type": "code",
      "metadata": {
        "id": "XVC_dTGqNohG",
        "colab_type": "code",
        "colab": {}
      },
      "source": [
        "prediction = np.argmax(prediction)\n",
        "print(classes[prediction])"
      ],
      "execution_count": null,
      "outputs": []
    },
    {
      "cell_type": "markdown",
      "metadata": {
        "id": "zJy8tKjuNyD2",
        "colab_type": "text"
      },
      "source": [
        "**Печатаем правильный ответ**"
      ]
    },
    {
      "cell_type": "code",
      "metadata": {
        "id": "0zoGlCZWN2Id",
        "colab_type": "code",
        "colab": {}
      },
      "source": [
        "print(classes[y_test[index][0]])"
      ],
      "execution_count": null,
      "outputs": []
    },
    {
      "cell_type": "markdown",
      "metadata": {
        "id": "1QnZ1pfIA_jo",
        "colab_type": "text"
      },
      "source": [
        "## Распознаем дополнительное изображение"
      ]
    },
    {
      "cell_type": "code",
      "metadata": {
        "id": "UjfiJbX7BEtA",
        "colab_type": "code",
        "colab": {
          "resources": {
            "http://localhost:8080/nbextensions/google.colab/files.js": {
              "data": "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",
              "ok": true,
              "headers": [
                [
                  "content-type",
                  "application/javascript"
                ]
              ],
              "status": 200,
              "status_text": ""
            }
          },
          "base_uri": "https://localhost:8080/",
          "height": 111
        },
        "outputId": "8b4774ac-fefc-4114-c7c3-9753260aacd6"
      },
      "source": [
        "from google.colab import files\n",
        "\n",
        "files.upload()"
      ],
      "execution_count": null,
      "outputs": [
        {
          "output_type": "display_data",
          "data": {
            "text/html": [
              "\n",
              "     <input type=\"file\" id=\"files-3c430b90-7d75-434d-bdae-dcfabc045be5\" name=\"files[]\" multiple disabled />\n",
              "     <output id=\"result-3c430b90-7d75-434d-bdae-dcfabc045be5\">\n",
              "      Upload widget is only available when the cell has been executed in the\n",
              "      current browser session. Please rerun this cell to enable.\n",
              "      </output>\n",
              "      <script src=\"/nbextensions/google.colab/files.js\"></script> "
            ],
            "text/plain": [
              "<IPython.core.display.HTML object>"
            ]
          },
          "metadata": {
            "tags": []
          }
        },
        {
          "output_type": "stream",
          "text": [
            "Saving kva.jpeg to kva.jpeg\n"
          ],
          "name": "stdout"
        },
        {
          "output_type": "execute_result",
          "data": {
            "text/plain": [
              "{'kva.jpeg': b'\\xff\\xd8\\xff\\xe0\\x00\\x10JFIF\\x00\\x01\\x01\\x01\\x00`\\x00`\\x00\\x00\\xff\\xdb\\x00C\\x00\\n\\x07\\x07\\t\\x07\\x06\\n\\t\\x08\\t\\x0b\\x0b\\n\\x0c\\x0f\\x19\\x10\\x0f\\x0e\\x0e\\x0f\\x1e\\x16\\x17\\x12\\x19$ &%# #\"(-90(*6+\"#2D26;=@@@&0FKE>J9?@=\\xff\\xdb\\x00C\\x01\\x0b\\x0b\\x0b\\x0f\\r\\x0f\\x1d\\x10\\x10\\x1d=)#)==================================================\\xff\\xc0\\x00\\x11\\x08\\x01|\\x02X\\x03\\x01\"\\x00\\x02\\x11\\x01\\x03\\x11\\x01\\xff\\xc4\\x00\\x1f\\x00\\x00\\x01\\x05\\x01\\x01\\x01\\x01\\x01\\x01\\x00\\x00\\x00\\x00\\x00\\x00\\x00\\x00\\x01\\x02\\x03\\x04\\x05\\x06\\x07\\x08\\t\\n\\x0b\\xff\\xc4\\x00\\xb5\\x10\\x00\\x02\\x01\\x03\\x03\\x02\\x04\\x03\\x05\\x05\\x04\\x04\\x00\\x00\\x01}\\x01\\x02\\x03\\x00\\x04\\x11\\x05\\x12!1A\\x06\\x13Qa\\x07\"q\\x142\\x81\\x91\\xa1\\x08#B\\xb1\\xc1\\x15R\\xd1\\xf0$3br\\x82\\t\\n\\x16\\x17\\x18\\x19\\x1a%&\\'()*456789:CDEFGHIJSTUVWXYZcdefghijstuvwxyz\\x83\\x84\\x85\\x86\\x87\\x88\\x89\\x8a\\x92\\x93\\x94\\x95\\x96\\x97\\x98\\x99\\x9a\\xa2\\xa3\\xa4\\xa5\\xa6\\xa7\\xa8\\xa9\\xaa\\xb2\\xb3\\xb4\\xb5\\xb6\\xb7\\xb8\\xb9\\xba\\xc2\\xc3\\xc4\\xc5\\xc6\\xc7\\xc8\\xc9\\xca\\xd2\\xd3\\xd4\\xd5\\xd6\\xd7\\xd8\\xd9\\xda\\xe1\\xe2\\xe3\\xe4\\xe5\\xe6\\xe7\\xe8\\xe9\\xea\\xf1\\xf2\\xf3\\xf4\\xf5\\xf6\\xf7\\xf8\\xf9\\xfa\\xff\\xc4\\x00\\x1f\\x01\\x00\\x03\\x01\\x01\\x01\\x01\\x01\\x01\\x01\\x01\\x01\\x00\\x00\\x00\\x00\\x00\\x00\\x01\\x02\\x03\\x04\\x05\\x06\\x07\\x08\\t\\n\\x0b\\xff\\xc4\\x00\\xb5\\x11\\x00\\x02\\x01\\x02\\x04\\x04\\x03\\x04\\x07\\x05\\x04\\x04\\x00\\x01\\x02w\\x00\\x01\\x02\\x03\\x11\\x04\\x05!1\\x06\\x12AQ\\x07aq\\x13\"2\\x81\\x08\\x14B\\x91\\xa1\\xb1\\xc1\\t#3R\\xf0\\x15br\\xd1\\n\\x16$4\\xe1%\\xf1\\x17\\x18\\x19\\x1a&\\'()*56789:CDEFGHIJSTUVWXYZcdefghijstuvwxyz\\x82\\x83\\x84\\x85\\x86\\x87\\x88\\x89\\x8a\\x92\\x93\\x94\\x95\\x96\\x97\\x98\\x99\\x9a\\xa2\\xa3\\xa4\\xa5\\xa6\\xa7\\xa8\\xa9\\xaa\\xb2\\xb3\\xb4\\xb5\\xb6\\xb7\\xb8\\xb9\\xba\\xc2\\xc3\\xc4\\xc5\\xc6\\xc7\\xc8\\xc9\\xca\\xd2\\xd3\\xd4\\xd5\\xd6\\xd7\\xd8\\xd9\\xda\\xe2\\xe3\\xe4\\xe5\\xe6\\xe7\\xe8\\xe9\\xea\\xf2\\xf3\\xf4\\xf5\\xf6\\xf7\\xf8\\xf9\\xfa\\xff\\xda\\x00\\x0c\\x03\\x01\\x00\\x02\\x11\\x03\\x11\\x00?\\x00\\xf1\\x9a(\\xa2\\x80\\n(\\xa2\\x98\\x05\\x14Q@\\x05\\x14Q@\\x0bE\\x14P\\x01E\\x14P\\x01E\\x14P\\x01Gj(\\xa0\\x02\\x8a(\\xa0\\x02\\x8a(\\xa0\\x02\\x8a(\\xa0\\x02\\x8a(\\xef@\\x05\\x14Q@\\x05\\x14Q@\\tE\\x14P\\x01E\\x14P\\x01E\\x14P\\x01E\\x14P\\x01E\\x14P\\x01E\\x14P\\x01E\\x14R\\x00\\xa2\\x8a)\\x80QE\\x14\\x80(\\xa2\\x8a\\x00(\\xa2\\x8a\\x00(\\xa2\\x8a\\x00(\\xa2\\x8a\\x00(\\xa2\\x8a\\x00(\\xa2\\x8a\\x00(\\xa2\\x8a\\x00)i;\\xd2\\xd3\\x00\\xa2\\x8a(\\x01sKH(\\xa0\\x05\\x14\\xbd\\xe9(\\xefL\\x05\\xa5\\xa4\\xa2\\x80\\x14R\\xd2QL\\x05\\x14\\xb9\\xa4\\xa2\\x80\\x17\\xebE\\x14S\\x02\\n(\\xa2\\xb3\\x00\\xa2\\x8a(\\x00\\xa2\\x8a(\\x00\\xa2\\x8aQL\\x02\\x8a(\\xa0\\x02\\x8a(\\xa0\\x02\\x8a(\\xa0\\x02\\x8a(\\xa0\\x02\\x8a;\\xd1@\\x05\\x14Q@\\x05\\x14Q@\\x05\\x14Q@\\x05\\x14Q@\\x05\\x14RP\\x01E\\x14P\\x01E\\x14P\\x01E\\x14P\\x01E\\x14P\\x01E\\x14P\\x01E\\x14R\\x00\\xa2\\x8a(\\x00\\xa2\\x8a(\\x00\\xa2\\x8a(\\x00\\xa2\\x8a(\\x00\\xa2\\x8a(\\x00\\xa2\\x8a(\\x00\\xa2\\x8a(\\x00\\xa2\\x8a(\\x00\\xa2\\x8a(\\x00\\xa2\\x8a(\\x00\\xa5\\xa4\\x14\\xb4\\xc0(\\xa2\\x8a\\x00Z))h\\x00\\xa5\\xa2\\x8e\\xd4\\x00\\xb4QE0\\nZAKL\\x03\\xe9K\\xda\\x92\\x96\\x80\\x174RQ@\\x10\\xd1E\\x15\\x00\\x14QE\\x00\\x14QE\\x00\\x14\\xb4\\x94\\xb4\\xc0(\\xa2\\x8a\\x00(\\xa2\\x8a\\x00(\\xa2\\x8a\\x00(\\xa2\\x8a\\x00(\\xa2\\x8a\\x00(\\xa2\\x8a\\x00(\\xa2\\x8a\\x00(\\xa2\\x8a\\x00(\\xa2\\x8a\\x00)(\\xa2\\x80\\n(\\xa2\\x80\\n(\\xa2\\x80\\n(\\xa2\\x80\\n(\\xa2\\x80\\n(\\xa2\\x90\\x05\\x14R\\xe2\\x80\\x12\\x8a(\\xa0\\x02\\x8a(\\xa0\\x02\\x8a(\\xa0\\x02\\x8a(\\xa0\\x02\\x8a(\\xa0\\x02\\x8a(\\xa0\\x02\\x8a\\\\RP\\x01E\\x14P\\x01E\\x14P\\x01E\\x14P\\x01KIF(\\x01h\\xa2\\x8a`\\x14\\xb9\\xa4\\xa3\\xbd\\x00.ii;R\\xd0\\x02\\xd1\\xda\\x92\\x8a\\x00Z):\\xd2\\xd3\\x00\\xa5\\xa4\\x14P\\x02\\xd1E\\x14\\x01\\x15\\x14QR\\x01E\\x14P\\x01E\\x14P\\x01KE\\x14\\xc0(\\xa2\\x8a\\x00(\\xa2\\x8a\\x00(\\xa2\\x8a\\x00(\\xa2\\x8a\\x00(\\xa2\\x8a\\x00(\\xa2\\x8a\\x00(\\xa2\\x8a\\x00(\\xa4\\xa5\\xa0\\x02\\x92\\x8a(\\x00\\xa2\\x8a(\\x00\\xa2\\x8a(\\x00\\xa2\\x8a(\\x00\\xa2\\x8a(\\x00\\xa2\\x8a)\\x00\\xb8\\xa5Tg`\\xaa\\t\\'\\xb0\\x19\\xa9\\xad\\xad\\xfc\\xdc\\xb3\\xe4D\\xbfy\\xbf\\xa7\\xd6\\xb5\\xec-\\xc5\\xc4_\\xb9A\\x0c@\\x9f\\x9c\\xf3\\xb8{\\x0f\\xcf\\x92{\\xd5(\\xb9h\\x83D\\xae\\xca\\x10\\xe8\\xb7\\xb3\\x80R4\\xe4\\x13\\x86\\x91A\\xe3\\xdb9\\xad\\x18<\\x11\\xab\\xce\\x06#\\x84\\x16;B\\xf9\\xaa\\xc4\\x9cg\\x1cg\\x9fn\\xb5\\xb9mai\"\\xa86\\xa2B\\xa4e\\x90\\x94c\\xd3\\xd0\\xe3\\xb7\\xa7s[zd:}\\xa4\\xa1\\xed\\x1a]\\xaa\\xbf<\\x13\\xae\\xfd\\x87\\xa6x\\xc6GNF\\t\\xce8\\xa5V\\x8dh\\xc2\\xf1**3vG\\x9d]\\xf8wT\\xb2\\xdd\\xe7YJ\\x15z\\xb2\\xae\\xe0?*\\xce\\xc5}\\x07co\\xf6\\xebo\\xde\\xa8FO\\x9a\\x19P\\xe78\\xed\\x9e\\x878<c\\xb7\\x04\\xf5\\xaew\\xc5_\\x0f\\xed\\xf5\\x1bQw\\x12\\xa5\\xbd\\xdb(;\\xd1p\\x92\\x1e\\xf9\\x1f\\xd4s\\xf5\\xaf*9\\x8f$\\xf9++y\\x8aQqvg\\x8e\\xd2T\\xf7v\\xb2\\xd9\\\\\\xc9o:\\x14\\x923\\x86S\\xda\\xa1\\xafQ4\\xd5\\xd0\\x84\\xa2\\x8cQ@\\x05\\x14Q@\\x05\\x14\\xbd\\xeb[\\xc3\\xfe\\x1e\\xba\\xf1\\x05\\xef\\x91m\\x85E\\x19\\x92V\\xe8\\x82\\xa6s\\x8c\"\\xe5\\'d\\x80\\xcf\\xb6\\xb4\\x9e\\xf2Q\\x15\\xb4O,\\x87\\x9d\\xa8\\xa4\\x9cV\\xfd\\x97\\x815[\\xa8\\xfc\\xc9\\x168#\\xe7\\xe6v\\xcfNO\\xdd\\xcfO\\xd3\\x15\\xeb:O\\x84\\xec\\xf4;8\\xa3H?ty\\x93\\xa9i\\x18\\x0e\\x01\\xc0\\'\\x9f\\xf2*\\x86\\xb9|\\xcc%\\xb2\\x8d\\x8d\\xb3>\\x11\\xe5L\\xa1e\\xc9\\xf9H8\\x08\\x00\\x18\\xef\\x91\\xd7\\xaek\\xcd\\xa5\\x8e\\x9e&|\\xb4V\\x9d\\xcb\\x84\\x1c\\xb5{\\x1eo{\\xe0\\xc3\\xa7\\x80n5;e\\xca\\x07\\n\\x01,A\\x19\\x07o_\\xf2=Ed6\\x94\\xa4\\xfe\\xea\\xee\\x17\\xeb\\x80C)8\\xfc+\\xb6\\xdda$\\xa1,\\xed\\xa3\\x91\\xc1\\x07\\xcf\\x9ce\\xb8\\xec2H\\xc7\\xb9\\xe7\\x8e\\xd5[T\\x81%e\\x8eq\\xb5\\x94`yXP\\x07\\xd0\\x0cW\\xb3\\x1c5F\\xafre(\\xae\\x87\\r-\\xbc\\xb0\\xe0\\xc8\\x85C\\x0c\\xa9\\xec~\\x86\\xa2\\xad\\xeb\\xc46\\x9f$\\xff\\x00=\\xb3\\r\\xb9U\\xe79\\xee:g\\xde\\xb2\\xefmD,\\x1e.a~P\\xe7\\x9f\\xa1\\xf7\\xa8\\x94\\x1c]\\x98h\\xd5\\xd1V\\x8a(\\xa9\\x10QE\\x14\\x00QE\\x14\\x00\\xa2\\x8a(\\xa0\\x02\\x8a(\\xa0\\x05\\xa2\\x92\\x96\\x98\\x0bE\\x14P\\x01KIE0\\x16\\x8aJ(\\x01h\\xa2\\x8a\\x00\\x8e\\x8a(\\xa9\\x00\\xa2\\x8a(\\x00\\xa5\\xa4\\xa2\\x98\\x0bE\\x1d\\xa8\\xa0\\x02\\x8a(\\xa0\\x02\\x8a(\\xa0\\x02\\x8a(\\xa0\\x02\\x8e\\xf4Q@\\x05\\x14Q@\\xc2\\x8a(\\xa0AE\\x14P\\x02R\\xd2R\\xd0\\x01IKI@\\x05\\x14Q@\\x05\\x14Q@\\x05\\x1fJ(\\xa0\\x02\\x8a(\\xa0\\x02\\x9c\\x8a\\xce\\xc1T\\x12I\\xc0\\x1e\\xb4\\xda\\xb9\\xa6&\\xfb\\xf8\\x87\\x1c\\x12\\xdc\\xfb\\x0c\\xff\\x00J\\x06\\x95\\xd8\\xfb\\xf7\\xf2vZ#\\r\\x91u*\\xd9\\x0c\\xdd\\xcf\\xa5\\\\\\xb4\\xbb\\x0bo\\x18\\x07\\x801Tnmf\\x92vh\\xe2vW$\\xae>c\\xd4\\xf5\\xc7CV\\xd7\\xc3\\x9a\\x8e\\xc5f\\xfb<h\\xc3!\\x9a\\xea<}>\\xf7_n\\xb5J\\xa2\\xa6\\xc2Qrf\\xb5\\x9e\\xb0my]\\xa4\\xfb\\x93W\\xb4[\\x96\\xbd\\xd6\\x15\\x98;!\\x07x\\x07\\xa8\\xee\\x01\\xf5\\xc6H\\xfaVm\\xaf\\x86\\xa3]\\xc2[\\xa6\\xb9!U\\x98\\xdbn\\t\\x1a\\xe4d\\x96e\\xe7\\x8c\\x8e\\x98\\x04\\xf5\\xed]N\\x8df4\\xcbp\\x12\\xe0\\x18UL\\x8fn\\xc4\\x03\\xbf\\xa1\\x0cN3\\x95 \\x128\\xc1?BT\\xc7ED\\xd6\\x95\\x07{\\xb3\\xb5\\xf0\\xcbb8m\\xe5\\x90\\xcd\\xb5\\x8b\\x04\\xdd\\xfe\\xa7\\x92pTw\\xf6>\\xa3\\x18\\x15\\xd3j^U\\xcd\\xaay\\x8809\\xdcO\\xdc\\xe2\\xb9=\\nV\\x95\\xa3\\x9b\\r\\x83\\xf2\\x8c\\x006\\xa08\\x1f\\xa0\\xfd+\\xa3\\xba\\xb8\\x8a\\x08\\x9aIXm\\x03\\x00\\xb0\\x18Q\\xd0\\x0f\\xc7\\xf5\\xaf\\x95\\xc5V\\x95y\\xc9-\\x85ZQ\\xbd\\x91\\xe5\\x1e9\\xf0\\xf2jln\\xad\\x99D\\xf1|\\xb8\\x03\\x87\\x1e\\x84\\xfa\\xfa}k\\x82M\\x0bQ\\x91\\xb6\\xad\\x9c\\xb9\\xf4+\\x8c\\xd7\\xaf\\xea\\xc6[\\xb7g,\\x15\\x07\\xa2\\x80\\x7fJ\\xa5\\xa5i\\x16\\xf7\\x97^\\\\\\xb2\\xcb\\x19\\xc6F\\xde\\x01\\xae\\x9c\\x0e2q\\x82\\xa7\\xd8\\xc1\\xca\\xc7\\x98?\\x875H\\xfe\\xf5\\x9c\\x83\\xdb\\x8c\\xd27\\x87\\xb5% \\x1bV9\\xf4 \\xff\\x00Z\\xf6\\x1b\\x8f\\x0cB\\x93\\x03\\xbd\\xd8\\xfa\\x12j&\\xf0\\xe7\\x99 @p\\x07 \\xee\\xae\\xa9cj\\xc5\\xd9\\xa2=\\xa1\\xe4\\x89\\xe1\\xddM\\xc0\"\\xd5\\x86N9 \\x1f\\xe7R\\xaf\\x85\\xb56\\xc6!N\\x7f\\xdb\\x1cW\\xaf[\\xf8j\\xd1\"u\\xb9\\xdd\\x92x \\x9c\\x8a\\xc8\\xbb\\xd3\\xa0\\x86\\xe3m\\xb4\\x92\\x98\\xba\\x12\\xd4O\\x1bR*\\xee\\xc3S\\xb9\\xe7\\x90xKR\\x9as\\x19H\\xa3\\x03\\xf8\\xdaA\\x83\\xf4\\xc6I\\xafT\\xf0\\x8e\\x8d\\x16\\x99g\\x15\\xac \\x06\\x04\\x19\\x1d\\x97\\x05\\xdb\\xbf\\x1e\\x9f\\xd2\\xa9\\xff\\x00g\\xc9\\x13\\xab\\x96\\x0e\\x9e\\xdd\\xab\\xa9\\xd1.\"hJ\\x02\\x0b\\x0c\\xff\\x00\\x08R\\x07\\xa9\\x1e\\xbf\\x9dy\\x98\\xac\\\\\\xf1Q\\xe4\\xbe\\x85s\\x175\\x89\\x89\\xd3\\xcc;U\\xbePx\\xe7n\\x0f?Z\\xf3\\xbdQZh%\\xf2&\\x865\\x9a\\x120\\xfb\\x81|m\\xc6x\\xc199\\xcfL`\\xf3\\x83^\\x91}\\x86\\xb4;N]\\x94\\x9eN\\x08\\xed\\xc5y\\xfe\\xabj\\xa1\\xa6\\xb7\\x9a\\xd5\\x1cd\\x95v\\x97c2\\xf2x?^pq\\xdf\\x07\\xd7\\xaf+\\xa9\\xec\\x17\\xbcuQ\\x92\\x92q8(u#m\\'\\x07k\\x03\\x83\\xea)\\xd2jM3\\xeef\\xcbz\\xd6\\xbf\\xf65\\xb5\\xc4\\x12Hm\\xd3{\\xe4y\\x8d\\x91\\xc61\\xc1\\xc6\\x01\\xc8\\xeas\\xcfN\\xf5\\x876\\x81\\x0c|\\xc1\\xa8\\xaa\\xf1\\x92\\xb3\\xc6P\\xe78\\xc0+\\xb8\\x1f\\xd2\\xbe\\x85c\\x0c\\xa7\\x87h\\x83Q\\xbc\\xf3-\\xcapI>\\xb5\\x15\\x887\\x90\\xbd\\xa33\\x16#1\\x0e\\xbc\\x80x\\xa7O\\xa3N\\x14\\x95\\xb8\\xb7\\x99\\x95\\x8a\\x95Y9\\xfa\\xf2\\x00#\\xe8MY\\xd1\\xf4\\xf9\\x92C9E(\\x0e\\xc2x;I\\x07\\x8ex\\xcf\\xf9\\xefS*\\x8an\\xe2\\x849]\\x8c3\\xd6\\x92\\xa5\\xb9\\x1bne_G#\\xf5\\xa8\\xaa\\t\\n(\\xa2\\x80\\n(\\xa2\\x80\\n(\\xa2\\x80\\x16\\x8aJZ\\x00)i)i\\x80\\xb4\\x94R\\xd0\\x01E\\x14P\\x01E\\x14P\\x01E\\x14P\\x03(\\xa2\\x8a@\\x14QK@\\tKE\\x14\\xc0(\\xa2\\x8a\\x00(\\xa2\\x8a\\x00(\\xa2\\x8a\\x00(\\xa2\\x8a\\x00(\\xefE\\x14\\x00QE\\x14\\x00QE\\x14\\x00b\\x8a)(\\x01qI\\x8a^\\xd4\\x94\\x00QE\\x14\\x00QE\\x14\\x00QE\\x14\\x00QE\\x14\\x00QE\\x14\\x00U\\xbd6S\\x15\\xfc,\\x00?69\\x19\\xeb\\xc7z\\xab\\x8aU%X\\x11\\xc1\\x1c\\x8aCN\\xcc\\xec\\x8d\\xbcR\\xb6\\xe0\\xe9\\x1b\\xe3{\\x85|\\x12\\xbcd\\x11\\x9c\\x922\\xdc\\x1ex5sB\\xb4\\xb5[\\xd1,\\xb6\\xca\\xc8\\x07\\xdd\\x1bI\\xc7M\\xd8\\xeb\\x8e\\x9c~\\\\\\x9a\\x8a\\x1bqu\\xa3\\x8b\\xb8T\\xcf\\tU2\\xc41\\xba7\\xf4#\\xfb\\xbf\\xa5Z\\x81dx\\xd5#[t\\x08\\x14\\x996\\x85\\x05\\xb3\\xd3\\x9ek\\x8aIJ\\xfe\\xf1\\xaf\\xb4\\xb1\\xa94&;;Ye+ol~I]\"\\x08\\xd2\\x1c|\\xacW\\x1drH\\xc1\\x04t\\xefV\"\\xdf\\xa9Jw\\xfc\\xb6\\xee7J7\\x07S\\xd0\\x00>\\x80\\x0eqU .e,\\xf7\\r($\\x9c7 d\\xe6\\xb4\\xa0\\x90\\x00U8Q\\xc9\\xcfz\\xf3qU\\xe3\\x15\\xcbL\\x99Vv:=5\\xe2\\x89\\x01!V5P\\x00\\xff\\x00g\\x15\\x15\\xf5\\xd8\\xb8\\x93\\x1eg\\xee\\xc7#\\x8csY\\xf1\\x1d\\xf9<l\\x0b\\xfeqQ\\xb8,@\\xdb\\x8cpk\\xc8\\x94\\x9b\\xbcQ\\xcf\\x14\\xdb\\xbb%{\\x95y\\x82\\xc6\\xb8N\\xfcg5\\r\\xaa\\xcb\\x14\\xcf\\xb1\\xb1\\xe9S\\xdbZ\\x16B\\xca\\xe0\\x1e\\xc0\\x8e\\rZ\\x8e\\xdc)\\x0c\\xaa\\t\\x1c\\xb58\\xcaQI#N]n]\\xb6i\\xa6\\x1b\\x8b\\xc6\\\\q\\xcfSK,D\\x1f7\\xcb\\x1b\\x97\\x86\\x04\\xd4\\xf1Y\\xdb\\xba\\x89\\x02\\xb2\\xc8z\\xa8<S\\xff\\x00\\xd5\\xfc\\xe6>\\x07\\x18\\'\\x8a\\xf5\\xa3\\x19\\xb8\\xab\\x995\\xa9F\\xe5\\xa5T\\xdd\\x907\\xf3\\xb4v\\xac\\x9f,\\xfd\\xa72`\\x81\\xce;V\\xfb\\xc1\\x1b\\xc7\\xe6\\xc8\\xe0\\xe4p\\xa3\\xa5R6\\xb1\\x88\\xceA\\xdez\\x01\\xd0W\\x1e&SRCQ(C2+a\\xc7\\xd0\\xf6\\xabP\\xdc$N\\x19\\x17\\x95\\xeb\\x93\\x90}\\xc7\\xa5C=\\x97\\x92\\xea\\x1f\\x1c\\xf3\\xc55\\x12=\\xc1\\x88\\xe0~\\x07\\x15\\xc3\\xacer\\x9a\\xd0\\xdfk\\xb8\\x9a,\\xc6\\xa1\\xd9\\xc7\\xb9\\xaesU\\xb6I\\xd2Kv`7\\r\\xa5\\xb6\\x82Ys\\x9c\\x1a\\xb6\\x9f\\xba\\x8c\\xba\\xee\\xc09\\\\t\\xaaw3B\\'\\x1eg2\\x1c\\x80\\x7f\\xbb\\xdf\\x15\\xde\\xaa\\xa9G\\x9a\\xfa\\x99\\xc1\\xb8\\xca\\xe6,\\x1azF]w:N\\xf1\\xb2\\xa2\\xc6\\x08$\\xafL\\x1e\\x9c\\x82\\xc3\\x1e\\xfe\\xbds\\xef!\\xb3\\x8e\\xdc\\xdc\\xdbF\\xe22G\\x94\\x84\\x02\\x18\\x80\\x06\\xd6 \\x83\\x9d\\xdf^+\\xa2\\xba?\\xb91\\xb9`\\x08\\xe4/\\x15UV\\xc4n[\\x8b\\x8c\\xefP\\x11dRp\\xfd\\x8f\\xd7\\xde\\xbb\\xa8bc?\\x8fFw\\xaa\\xb7G\\x17k\\x06\\xedI\\xe3\\x98H\\x8e\\x06\\xef,G\\x8d\\xc7\\xd3\\x8cpFy\\xf6\\x15y`\\x01|\\xb1\"|\\xa3,\\x06[\\x92q\\x8e\\x07\\\\dr8\\xe7\\x9a\\xd5M\"\\xea\\xeaH\"i\\x928\\xa1m\\xeb+6X\\xe3=\\xf3\\xd4T\\x1a\\xb4\\xf0Y\\xdb=\\xad\\xa4\\xcdq;\\r\\xb2O\\xd0*\\xe3\\x04\\x0cpI\\xee}\\xeb\\xb5\\xd5\\\\\\xca1wds\\xe9vy\\xbc\\xcd\\xbawa\\xd0\\xb1?\\xadGJz\\xd2Wy\\x88QE\\x14\\x00QE\\x14\\x00QE\\x14\\x00R\\xd2Q@\\x0bE\\x14S\\x01ii(\\xa0\\x05\\xa2\\x92\\x8e\\xf4\\x00\\xb4QI@\\x0bE\\x14P\\x03(\\xa2\\x8a@\\x14QE\\x00.i)h\\xa0\\x02\\x8a(\\xa6\\x01E\\x14P\\x01E\\x14P\\x01E\\x14P\\x01E\\x14P\\x01E\\x14P\\x01E\\x14P\\x01Gz)(\\x00\\xa2\\x8a(\\x00\\xa2\\x8a(\\x00\\xa2\\x8a(\\x00\\xa2\\x8a(\\x00\\xa2\\x8a(\\x00\\xa2\\x8a(\\x00\\xa5\\x14\\x94\\xb4\\x80\\xea\\xf4\\xdb\\x97\\x8e\\x08e\\xb7\\x91\\xa3b\\x83qC\\x8f\\xa8\\xfc\\xea\\xe0\\x91\\xe6\\x90y\\xac\\xcf\\x83\\x91\\xb8\\xd6N\\x87\\x1b\\xb5\\x9e\\xe3\\x92\\xbb\\x8e\\xdfo\\xf2s[v\\xf6\\xec\\xcc\\x078\\xfaW\\x97_I0\\xbd\\x8dK<\\xb9\\n\\x0f\\x1e\\xfd\\xabR(\\x95cF\\xe3,z\\xfa\\x8a\\xa7aj\\xdf+\\x01\\xdb\\xf2\\xad\\xa8\\xac\\x99\\x87\\xcd\\xb4g\\xaf\\x1dk\\xcdprm\\x90\\xdd\\xc6,\\x8c6rK\\x1e:c\\x03\\xb5O\\x0cR\\xdc\\x95c\\x90\\xa8zz\\xd5\\xb4\\xb3^\\xad\\xc9\\xabH\\xaa\\x8a6\\xd3\\x8d\\x08\\xde\\xed\\x05\\xf4\"[Y6\\xab\\xb0\\xf9\\xfb\\xf3VV\\x1c)\\xc1\\xe4\\xf54\\x9b\\x98\\x8c\\x13\\xf9S\\x84\\xa0u5\\xb3\\x84o\\xa2\\x04Z\\x8aV@\\x06zS\\xfc\\xe3\\xb3nr\\xa7\\xd6\\xa9\\x19\\x97\\xb1\\xa5\\xfbB\\xed\\x18\\xcej\\xd5Kh\\r\\x13\\xe3\\x9f\\xba0:b\\x8f\\'{1\\xe9\\x9e\\x95\\x12\\xce\\x1b\\xbe)\\xc2^\\x98\\xa14\\xde\\xa2\\xb1\\x0c\\xf6\\xb2\\x15\\xf3\\x07P\\xd9\\x18\\xac\\xf9\\xa0h\\x99\\x8b)m\\xa78\\x03\\x82\\rl\\xf9\\xef\\x8c\\x03\\xc55\\x9f<\\xb2\\x83\\x9e\\xb4\\xe5F\\x9c\\xf5\\xb17h\\xc4W\\xdeJ#0S\\xc8\\xc8\\xc1\\x14\\xd7UT\\x1b\\x97\\xe7\\\\\\x91\\xc7\\x0f\\xff\\x00\\xd7\\xad9-\\xe3#\\x80Go\\xc2\\xaa\\xbd\\xb1\\\\\\x859\\\\\\xe4V?V\\x8c5@\\xe5s\\x9f\\xbb\\x12&Y\\x81\\x01\\xb9Q\\xd7\\x8f\\xade\\xdc9bz\\x15\\xee1]\\r\\xf23.\\xd1\\x19\\x00\\x1e\\x06zV\\x15\\xd4\\x05\\x8fB\\t=\\xeb8\\xd3jZ\\x15\\xccfH\\xcb\\x93\\x91\\x8f\\xc6\\xaa\\xca\\xe0\\x95^\\x02\\x92\\x07\\x1e\\x95nX\\x1b\\xfc\\x8a\\xadqo\\x94\\xc1\\x1br\\xa4d{\\xd7m>h\\x8e\\xf78\\x97\\x00;\\x059\\x19\\xe0\\xd3i\\xd2##\\xb2\\xb0\\xc3)\\xc1\\x14\\xda\\xf6\\x0b\\n(\\xa2\\x80\\n(\\xa2\\x80\\n(\\xa2\\x80\\nQIE\\x00-\\x14QL\\x02\\x96\\x93\\xbd\\x1fZ\\x00Z^\\xd4\\x94P\\x01E\\x14P\\x01E\\x14P\\x03h\\xa2\\x8a@\\x14QE\\x00-\\x14QL\\x02\\x8a(\\xa0\\x03\\xb5\\x14Q@\\x05\\x14Q@\\x05\\x14Q@\\x05\\x14Q@\\x05\\x14Q@\\x05\\x14Q@\\x01\\xa4\\xa2\\x8a\\x00(\\xa2\\x8a\\x00(\\xa2\\x8a\\x00(\\xa2\\x8a\\x00(\\xa2\\x8a\\x00(\\xa2\\x8a\\x00(\\xa2\\x8a@\\x14\\xb4\\x94\\xb4\\x01\\xddi6\\x81,`E\\x18\\x1b\\x01\\xcf\\xd4s]\\x05\\x9d\\xb4c\\x92+\\x8c\\xd2\\xfcH\\x91\\xc3\\x1c\\x13\\xae\\xc6Q\\xb7y?)\\xfa\\xfaWGo{4\\x88\\x19Z2\\x0f#kg\\x8f\\xc2\\xbc\\xfa\\xb1\\xe5\\xd6D\\xb4\\xd9\\xd3@\\xf1\\xa0\\xe7\\x03\\xfa\\xd5\\xa5\\xbd\\x85:\\xb0\\xaeI\\xeef#\\xef\\x1a\\x8f\\xcf\\x93<\\x92k\\x99\\xb5\\xd0J\\x1d\\xce\\xd3\\xfbR.\\x80\\x13A\\xd4\\t\\x1cb\\xb9\\x15\\x98\\xf1\\x9eq\\xcdH.\\x18w8\\xac%&Z\\x82:o\\xb5\\xbb\\xf7\\xa0\\xce\\xff\\x00\\xde9\\xaeo\\xfb@\\xa7sS-\\xfb\\x1e\\x8f\\x9a\\xc6M\\x97\\xc8o\\t\\xdb\\xbeiL\\xc4\\xf48\\xace\\xbec\\xdf8\\xa5\\x17d\\x8eX\\xd6|\\xc2\\xe56~\\xd2\\xc2\\x9c\\xb72g\\xa8\\x15\\x8c.\\xcf\\xf7\\x8d!\\xbc9\\xeasV\\xa4\\xfa\\x07)\\xbc/\\x9dG$S\\xd3T\\x04|\\xc0\\x0fbk\\x9bk\\xa3\\xdc\\x9a\\x8d\\xae=\\xcdi\\x19\\xc8\\x97\\x04u?\\xda0\\x1e\\t\\x03\\xf1\\xa7\\x1b\\x98Y~W\\x06\\xb9\\x03;\\x1e\\xe6\\x98\\xd30\\xe8MtF\\xa3!\\xd3GS3#\\x0e\\xc6\\xb3\\xee-\\xe3|\\xf6\\xac5\\xba\\x9c\\x1f\\x96F\\xc7\\xd6\\xa4\\x1a\\x84\\xe0`\\xb8?Z\\xd62\\x8fTC\\x83&\\x9a\\xd0)\\xca\\xe3\\x8a\\xcb\\xba\\xb7!I\\xc7\\xff\\x00\\xab\\xd2\\xae\\xc9u#.r\\xbc{W7\\xae\\xeb\\x97\\x16H#_/\\xce\\x90g\\x80N\\xd1\\xd3<\\xf7\\xad`\\x94\\xdf*\\x1a\\x8b9\\x9dT(\\xd5.\\x02\\xf4\\xde\\x7f>\\xf5N\\x9c\\xec]\\xcb1%\\x89\\xc9\\'\\xbd6\\xbd\\x04\\xac\\xacj\\x14QE0\\n(\\xa2\\x80\\n(\\xa2\\x80\\n(\\xa2\\x80\\x16\\x8a(\\xa0\\x02\\x8a)i\\x80QE\\x14\\x00QE\\x14\\x00QFh\\xa0\\x06\\xd1E\\x14\\x80(\\xa2\\x8a\\x00Z(\\xa2\\x80\\x12\\x96\\x8a(\\x00\\xa2\\x8e\\xf4S\\x00\\xa2\\x8a(\\x00\\xa2\\x8a(\\x00\\xa2\\x8a(\\x00\\xa2\\x8a)\\x00Q\\xd6\\x8aJ`\\x14QE\\x00\\x14QE\\x00\\x14QE\\x00\\x14QE\\x00\\x14QE \\n(\\xa2\\x98\\x05\\x14Q@\\x05\\x1d\\xa8\\xa2\\x90\\x05t\\x9e\\x18\\xd4v\\x96\\xb4s\\xd7\\xe6\\x8f\\xfa\\x8f\\xeb\\xf9\\xd77R\\xdbL\\xd6\\xf7\\x11\\xcb\\x1f\\xdeF\\x04Vua\\xed\"\\xe2\\x07\\xa0\\x97.:\\xe2\\x9a\\x0f<\\xd4i*\\xc9\\x1a\\xc8\\x87\\xe5e\\x0c>\\x84S\\xf7\\x03\\xf5\\xaf\\x11\\xdd;2\\xd2\\'W\\x00b\\x9405\\x01l\\x0e(\\x12\\x01\\xf5\\xa9q\\xb9H\\x95\\xb1\\xeb\\x9a\\\\\\xf4#\\xad0\\xb8+F\\xfe8\\xa9\\xb0\\xc9\\xd6B:\\xd4\\x9eo\\x15X8\\xc0\\xed\\x9av\\xee(\\xe4Be\\x9f3p\\xc1\\xe8i\\xdb\\xf1\\xde\\xaay\\x98\\xa5\\xf3(\\xe4\\x11;\\xb9\\xeei\\x03Us&iC\\xe4U(\\x81>\\xe1\\x8e)\\x8e\\xed\\x8e1ND\\xc8\\xcb\\x10\\x05!\\x960p\\x17\"\\xa9o\\xa0\\x9a\"\\\\\\x93\\x81\\x91\\x9as\\xc6b\\x01\\x8e9\\xe9M\\x96A\\xd61\\x8a\\x8bs3\\x12\\xd9\\xf6\\xad,\\xc8a-\\xc1\\x8dY\\x99\\xb6\\xaa\\x8c\\x93\\xed\\\\\\r\\xed\\xdb\\xde]I4\\x9fy\\xce~\\x83\\xb0\\xfc\\x05u\\xda\\xe4\\xbeV\\x939\\x1dX\\x05\\x1f\\x89\\x19\\xae&\\xbb\\xb0P\\xb2rbAE\\x14Wh\\xc2\\x8a(\\xa0\\x02\\x8a(\\xa0\\x02\\x8a(\\xa0\\x02\\x8a(\\xef@\\x0b\\x8a(\\xa2\\x80\\nZJ)\\x80\\xb4QE\\x00\\x14QE\\x00\\x18\\xa2\\x8e\\xb4P\\x03h\\xa2\\x8a@\\x14\\xb4\\x94P\\x02\\xd1IK@\\xc2\\x8a(\\xa6 \\xa2\\x8a(\\x00\\xa2\\x8a)\\x00QE\\x14\\xc0(\\xa2\\x8a\\x00(\\xa2\\x8a\\x00)(\\xa2\\x80\\n(\\xa2\\x80\\n(\\xa2\\x80\\n(\\xa2\\x80\\n(\\xa2\\x80\\n(\\xa2\\x80\\n(\\xa2\\x90\\x05\\x14QL\\x02\\x8a)M \\x13\\xad-\\x02\\xaeivF\\xf6\\xec)\\x07b\\xf2\\xc7\\xda\\x94\\xa4\\xa2\\xae\\xc0\\xe9\\xb4\\x87f\\xd2\\xe1\\x0e0\\xca\\xb8\\xc7\\xb7o\\xd2\\xae\\xf4\\xaa\\xf1\\x8d\\xb7\\x1b\\x00 \\x05\\xe9\\xf9U\\x9cq^L\\x973\\xe6\\xeeh\\x84&\\x98\\xc6\\x9f\\x8c\\x8a\\x8d\\xf8\\xa9Q\\x18\\x81\\xc85\"\\xbdWjP\\xd48\\x8c\\xb3\\xbf\\x9av\\xfa\\xae\\x1c\\xe2\\x97\\xcc8\\xebK\\x94L\\x9c\\xb1\\xed@$\\xf5\\xa8\\x8b\\xf1\\xf7\\x81\\xa4\\xf3(\\xe5\\x02|\\xe2\\x94L#\\x1c\\x82}1U\\xfc\\xca\\x03g\\xadR\\x87p\\xb1!\\x99\\xa4<\\x9c\\n\\x905@\\xaa3\\x9a\\x99Eh\\x92[\\x12\\xc7\\x8e\\x074\\x86\\x97\\x1d\\xa8#4\\xd4If\\x1f\\x89%\\x0b\\xa7l=Y\\xc7\\xf9\\xfd+\\x95\\xae\\xa7\\xc4\\xf6\\xe5\\xed\\xa3\\x94\\x1f\\x95\\t\\xc8\\xfa\\xe2\\xb9j\\xee\\xa2\\x92\\x8d\\x89BQE\\x15\\xa8\\xc2\\x8a(\\xa0\\x02\\x8a(\\xa0\\x02\\x8a(\\xa0\\x02\\x8a3E\\x00(\\xa2\\x8a(\\x00\\xa2\\x8a(\\x01i(\\x14\\xb4\\xc0(\\xa2\\x8a\\x00(\\xa2\\x8a\\x00m\\x14QH\\x02\\x96\\x92\\x97\\x14\\x00\\x94\\xb4Q\\x8a\\x00(\\xa2\\x8a`\\x14QE\\x00\\x14P(\\xa4\\x01Gz\\x05\\x14\\xc0(\\xa2\\x8a\\x00))i(\\x00\\xa2\\x8a(\\x00\\xa2\\x8aZ\\x00J(\\xa2\\x80\\n(\\xa2\\x80\\n(\\xa2\\x90\\x05\\x14QL\\x02\\x8a(\\xa0\\x02\\x8a)i\\x00\\x94R\\xe2\\x92\\x80\\x16\\xbb\\r\\x12\\xc5m\\xadU\\xb9\\xf3\\x0f\\xcc\\xd5\\xcfh\\xd6\\x82\\xea\\xfdC\\x8c\\xa2|\\xc7\\xdf\\xd0~u\\xd9G\\xf7}\\x17\\x1c\\xe3\\xbdp\\xe2\\xea= \\x86\\x95\\xc8bR\\xd3\\xc8\\xe7\\x93\\xd2\\xacm\\xc5$\\n<\\xbd\\xc0c\\'5(\\\\\\xd4(ia\\xdc\\x87\\x1csQ\\xba\\x9cU\\x93\\x1f\\x075\\x1b\\'<v\\xa8\\x92\\xb1I\\x94\\xd8\\x1er\\r0\\x9cw\\xabRF\\x0ej\\x9c\\xa3frjS\\xb9hv\\xfaP\\xfe\\xb5M\\xe7\\xc0\\xcdBn\\xcd_#er\\x9a\\x80\\xa8<Q\\x9a\\xcc[\\xb3R\\xad\\xd9\\xc5\\x1e\\xcd\\x93\\xca^\\xdd\\xcfZr\\x9c\\xf7\\xaaBbz\\x9a\\x9e\\x16\\xdd\\xf7h\\xe5i\\x03-\\xa75:)\\xc51\\x15UA\\xceMN\\x9dE(\\xeaf\\xda\\x1c\\x06E!\\x18\\xa9J\\xe4dqAL\\xadt\\xc2&M\\x94/\\xa1\\x13\\xdaI\\x19\\x00\\xe4\\x1a\\xe0dR\\x922\\x9e\\xa0\\xe2\\xbd \\xaf\\x1c\\xd7\\x13\\xafY}\\x8fQb\\x07\\xc9/\\xce\\xbf\\xd4~u\\xbc\\x15\\x85\\x17\\xa9\\x97E\\x14V\\x85\\x85\\x14R\\xd0\\x02QK\\x8aJ\\x00)h\\xebE\\x00%-%(\\xa0\\x02\\x8a(\\xa0\\x02\\x96\\x92\\x8a`\\x14\\xb4b\\x8a\\x00(\\xa2\\x83@\\x05\\x14Q@\\r\\xa2\\x8a)\\x00R\\xd2R\\x8a\\x00(\\xa2\\x8a`\\x14P(\\xa0\\x02\\x8a(\\xa0\\x02\\x8a(\\xa0\\x02\\x8a(\\xa0\\x02\\x8a(\\xa0\\x02\\x92\\x96\\x8a\\x00J:\\xd1E\\x00\\x14QE\\x00\\x14QE\\x00\\x14QE\\x00\\x14\\xb4\\x94P\\x01E\\x14R\\x00\\xa2\\x8a(\\x00\\xa2\\x8a(\\x00\\xa5\\xa4\\xa5\\xa0\\x0e\\x97\\xc3\\x16\\xea`y\\x0fV|~\\x02\\xb6\\xe69\\x01G\\x19\\xaaZ<~N\\x9b\\x108\\x19\\\\\\x9f\\xc7\\x9a\\xbd\\x08\\xdd\"\\xb1\\xfe#\\x91\\xec:\\xd7\\x957z\\x8d\\x94YD\\xc2\\x80;\\x0cT\\x8a\\x9c\\xd3\\xd11\\x8a\\x0f\\xb7z\\xe8[\\t\\x110\\xc7\\x18\\xe9Q\\xb2\\xe0z\\xd5\\x8d\\xb9\\xe6\\xa3nMe1\\x95\\xddF:Vu\\xda\\x1e\\xd5\\xaay\\xcdV\\xb8\\x88\\x10{\\xd61z\\x97\\x13\\x9e\\x98\\xb0j\\xae\\xe7\\xbfcZ70\\xf2s\\x8a\\xa9$`-v\\xc5\\x9d\\x11*\\x03\\xcf\\x15:\\x12H\\xe6\\x98\\x10\\x03\\x90*h\\x90\\xb3\\x0cU\\x83D\\xbc\\xee\\xfaV\\x95\\xa8!G\\xa7Z\\xa5\\x80[\\x81Z\\x10\\x8c/J\\xc6\\xa6\\xc6\\x12.\\'8\\xab g\\x1e\\x9d\\xaa\\x9a\\x1c\\x1fZ\\xb1\\x13\\xfd=\\xc5g\\x1d\\x0c\\x19f3\\xf2\\xf3O\\x1d\\xfd\\xfb\\xd4h\\xdc\\x83\\x91O\\x93\\x19\\xca\\x9f\\xadu\\xd33l$N\\ra\\xeb\\xba\\x7f\\xdbm\\x0e\\x07\\xef#\\xe5O\\xf4\\xad\\xe0\\xdb\\x97\\x83U\\xe6\\x8b#\\x91\\xc69\\xab\\x93kT+\\xd8\\xf3VR\\xacA\\x18#\\xa8\\xa6\\xd7G\\xaei%\\x90\\xddB\\xa4\\xb0\\xe2@\\x07\\xeb\\\\\\xefJ\\xa8MI]\\x1a\\xa7p\\xc5\\x14QT0\\xa2\\x8a(\\x00\\xa0\\xd1E\\x00\\x14QE\\x00\\x14QE\\x00\\x14\\n(\\xa0\\x05\\xa2\\x8a)\\x80QE\\x14\\x00QE\\x14\\x00\\xda(\\xa5\\xa4\\x02QKE\\x00%-\\x14\\x94\\xc0ZJZ(\\x00\\xa2\\x8a(\\x00\\xa2\\x8a(\\x00\\xa2\\x8a(\\x00\\xa4\\x14\\xb4\\n\\x00J(\\xa2\\x80\\n(\\xa2\\x80\\n(\\xa2\\x90\\x05\\x14QL\\x02\\x8a(\\xa0\\x02\\x8aZ(\\x01(\\xa5\\xa2\\x80\\x13\\x8a)i)\\x00QE\\x14\\x00w\\xa7\\x01\\x96\\x14\\xda\\x96\\x01\\xba\\xe21\\xea\\xc0P\\xc0\\xed\\xad\\xa2\\x0bo\\x12\\x93\\xc1\\x00\\x7fJ\\xbbm\\x102\\x96<\\x91\\xeas\\x8e\\xd9\\x1f\\x99\\xa8\\xe1S\\xe4\\x17\\x03\\'o\\x198\\x1f\\xe75r\\xd1\\x02\\xa9<\\xe3\\xa0\\xc9\\xcey\\xaf\\x1f\\x9b\\x9az\\x14\\xc9H\\xc2\\xfa\\xd2 \\xdcI\\xa5\\xc6\\xef\\xe5J\\xed\\xe5\\xae\\x07^\\x95\\xd0\\xde\\x82\\xd9\\x0cs\\x81\\x8fZ\\x8b\\x19c\\x8ax\\x1d\\xe9v\\xe3\\xe6\\xf4\\xaey\\xb1\\xa4E\\xb7\\x8ac\\xc5\\x90zU\\x95\\x1cg\\x9aB\\x9f-fj\\x91\\x83}\\x16\\xd6\\xc5fI\\xf7\\rt\\x17\\xd1g\\x9ct\\xack\\x88\\xb0\\xa7\\x83\\xcfJ\\xec\\xa4\\xf44\\x8b3\\xc9\\xc9\\xab1.\\x17 sQ\\x04\\xe6\\xaeG\\x11(\\xb8\\x19\\xad\\xb9\\x8a\\x93\\x1d\\x04e\\xde\\xb4\\x02\\x9e\\x83\\x8fzd1l\\x1d1S\\x05\\xc7J\\xc2N\\xec\\xe6\\x9b\\x15~^\\xdc\\n\\x95O5\\x169\\xc5<\\x11\\xdb4\\x19X\\x9b\\x7fJ\\xb5\\x14\\x8ax~\\x98\\xf5\\xaa\\x19#\\xa94\\xf5\\xc9n\\xf5q\\x93[\\x13\\xca\\\\\\x89r\\xe4\\x0eEN\\xf0``\\xf4\\xc5C\\t\\xda\\x068=\\xabR\\x16\\x8a\\xfa\\xd8\\xb2`:\\x9d\\xa5}\\rm\\x19\\xf3h\\xc9q9\\xdb\\x98\\xca3\\x10I^\\xe0\\n\\xe4\\xf5\\xbd8[\\xcd\\xe7\\xc41\\x1b\\x9eq\\xd0\\x1f\\xf3\\xfdk\\xba\\xb9\\x84\\xab\\x10\\xdd\\xbfJ\\xca\\xbb\\xb6\\x8ea$-\\x86B9\\x00\\xf23X9:U/\\xd1\\x84dptV\\xcaxrv\\x99\\x94\\xba\\x84\\x0c@>\\xa3\\xd6\\xb4\\xad|;\\x04x2\\x06\\x91\\xb3\\xde\\xbae^\\x08\\xb7$s\\xb6\\x9a}\\xcd\\xebb\\x08\\x8bc\\xbfA[\\x11x6\\xfaH\\xc3y\\x90\\x82FJ\\xee\\xe4WWgd\\xb0\\xaa\\x80\\x81~\\x9d\\xab\\xa5\\xb0{6\\x87\\x9c+I\\x80\\xdb\\xd7\\x04\\xd4F\\xb3\\x9b\\xb6\\xc6R\\xa8\\xfa\\x1e9\\x7f\\xa3\\xdd\\xe9\\xceVx\\x98\\x01\\xc6\\xe08\\xaa5\\xed\\x1a\\x8e\\x93mt\\x8d\\xb3\\xe6\\xde\\xc0\\x05\\xc9n>\\x95\\xc0\\xeb\\xbe\\x12\\x92\\td{%,\\x14\\xf2\\x9f\\xe1Z*\\x96vc\\x85[\\xe8\\xceV\\x8aVR\\xacA\\x04\\x11\\xd4RV\\xa6\\xc1E\\x14P\\x01E\\x14P\\x02\\xd1E\\x14\\xc0(\\xa2\\x8a\\x00(\\xa2\\x8a\\x00m-\\x14R\\x004Q\\x9a(\\x00\\xa2\\x8a(\\x00\\xc5\\x14QL\\x02\\x8a(\\xa0\\x02\\x8a(\\xa4\\x01F);R\\xe2\\x98\\x05%)\\xa4\\xa0\\x05\\xa4\\xa2\\x8a\\x00(\\xa2\\x8a\\x00(\\xa2\\x8a\\x00(\\xa2\\x8a\\x00Z:Rw\\xa5\\xa0\\x02\\x8a(\\xa4\\x01E\\x14S\\x00\\xa2\\x8a)\\x00\\x94R\\xe6\\x8a\\x00*\\xee\\x93k\\xf6\\xbdB4#*\\xa7s}\\x05Q\\xef]\\x1f\\x87-\\xca[\\xcbq\\x8f\\x99\\xce\\xd5\\xf7\\x03\\xaf\\xeb\\x8f\\xca\\xb3\\xad>X6\\x07H\\xb2a\\x15G\\xb7\\xe1V\\x15\\xb6D\\x00\\xeaj\\x9c\\x00\\x178\\xe7\\x9c\\xd5\\x9d\\xc7p=O\\xa5y\\x94a\\xd4w\\xd4\\xb0\\x8d\\x8e\\x9d\\x05FX\\xbb\\x1e\\xc3\\xb5#p\\xa1A\\xe7\\xab{\\xd3>e9\\x1c\\x8a\\xd2lkRa\\xc8\\xe6\\x9f\\x8c/J\\x85d\\x00`\\xf1R\\x89\\x15\\x97\\xef\\x0f\\xce\\xb0e\\xa1\\xca\\xbcd\\xf4\\xec)\\x0f\\x00\\xe6\\x94K\\x1a\\x8eXUy\\xa6.>A\\xc7\\xad\\x11\\x8bl\\xa2\\t\\xcf\\x9a\\xc5W\\x90\\x05g\\xdcD\\t\\xc5[\\x92P\\xab\\x85\\xefU\\x18\\xe4\\xe4\\xd7m:v%\\xcc\\xaf\\x1d\\xa0/\\x8a\\xb6\\xb6\\xea\\x9c1\\xc0\\xedM\\x87\\x86\\x15u\\xd4\\x14\\x07\\x14MXNm\\x90\\xed\\xc0\\xedA8\\xf7\\xa7\\xcb\\x1a\\xaf\\xca\\t\\xf6\\xa8\\xb0@\\xeb\\xfaVFlwzp#v*,0=\\xaaE\\x18\\xe9@\\x0f\\x03\\xbd=A-M\\x1c\\x8a\\x965\\xc9\\xcd;\\x89\\x96\\x17\\x80;RF\\xf2Z^%\\xc4\\x04\\x8f\\xe1u\\xec\\xcb\\xfezR\\x81\\xdb\\x14\\xad\\xf2\\x8c\\xd5\\xc0\\xcan\\xdb\\x17n\\x95d!\\x8erGN\\x9fJ\\xcf\\xb8\\xb7\\xe01\\xce\\x01\\xc8\\xf4\\xa9\\xad\\'y\\x03\\xa3\\x9c\\x9f\\xbc\\xa7\\xf9\\x8f\\xf3\\xefR\\x84\\xf3r\\t\\xe9U$\\xaa-\\t\\xbd\\xb53\\x02m\\x94\\x0f\\xeft\\xfa\\xd5\\xa8\\xa0\\xe7=H\\xaa\\xf71\\x95\\x93\\x03$\\xa9\\xc8\\xad;0\\'\\x8c>T0\\xe1\\x86z\\x1a\\xe4N\\xce\\xcc\\xa7\\xae\\xc3\\xe1\\x8fv\\x00\\xe3\\x1f\\xad_Hs\\x16\\xde\\x87\\xd4Tqy)\\x8d\\xf2\\xa6\\x07NzU\\xe0\\xa1\\xb0U\\xc3\\x03\\xde\\xaa2\\xb1.!\\x0c\\x021\\xbcc\\xa7\\x19\\xac\\x9dT0\\xde\\xdbr\\xd9\\xe3\\x07\\x9a\\xd2\\x96_/#5Fy\\x04\\x83\\xe6\\x1dz\\x1a\\xd94\\xd6\\xa4\\xf2\\xb4y\\xf7\\x8a,\\x11H\\xba@\\x14\\x93\\x86\\xc7\\x7fz\\xe6\\xeb\\xb4\\xf1iX\\xecJ\\x93\\xcb0\\x00W\\x17]To\\xcb\\xa9\\xbc6\\n(\\xa2\\xb5,(\\xa2\\x8a\\x00Z):R\\xd0\\x01E\\x14S\\x00\\xa2\\x8a(\\x01(\\xa2\\x8a@\\x14QE\\x00\\x14QE\\x00\\x14QE\\x00\\x14QI\\xde\\x80\\x16\\x8a(\\xa0\\x02\\x8a(\\xa0\\x02\\x8a))\\x80QE\\x14\\x80(\\xa2\\x8a\\x00(\\xa2\\x8a`\\x14QK@\\x07j))h\\x00\\xa9\\xad\\xad\\'\\xbb}\\x96\\xf1<\\x8d\\xfe\\xc8\\xe9S\\xe9zl\\x9a\\x9d\\xda\\xc2\\x9c\\x0f\\xe2oJ\\xf5O\\x0e\\xe9\\xf0Y\\xa4QE\\x14J\\xa0\\x0c\\xe4d\\x9f\\xaf\\x1f\\xadg)\\xa4\\xec\\xb7\"R\\xb1\\xe52\\xe9W\\xb0\\x0f\\xde[H?\\x0c\\xd4\"\\xdaf$\\x08\\x9c\\xfe\\x15\\xecZ\\xe6\\x95\\x126\\xe0\\x11K\\x9c\\xedS\\xf5\\x1d1\\xc7\\xe7\\xcf\\xa7z\\xe7%\\xb0\\xda\\xe4\\xf5\\x1d+)\\xd6\\x94\\x1d\\x9a%T\\xb9\\xc0\\xfd\\x92p3\\xe5?\\xe5Q22\\xfd\\xe5#\\xea+\\xbe{PW\\x18\\x19\\xfeuZM:7\\xfb\\xea\\r%\\x88\\xee\\x8a\\xe78\\x9e\\x94WM?\\x87\\xe1rJ\\x96C\\xd7\\xda\\xa8K\\xe1\\xf9\\x97&7V\\x1f\\x95l\\xaaE\\x8dI\\x19qD\\xd3J\\x91\\xa0\\xcb9\\n\\x07\\xb9\\xae\\xd6\\xde\\xd9`\\xb6\\x8e(\\x9b\\xe5A\\xb4\\x91\\xfcG\\x90\\x7fZ\\xc6\\xd0t\\xd9\"\\xbf2\\xce\\x98\\x11\\xaf\\xcb\\x9fS\\xfeMub\\xdf*\\x0f\\x07\\x9c\\xe2\\xb8\\xf1Uo%\\x04;\\x90\\xc1\\x19\\x8e0\\xa4\\xee>\\xbe\\xb5n\\xdcgqa\\x82:\\x7f!\\xfdjx\\xadU7\\x13\\x9c`\\xfat#\\x9f\\xe7L\\x890_=\\xcd>^H\\\\\\x98\\xbb\\xb1\\xac\\x99\\xc50dp8\\xa9\\xd9N8\\xa8\\x98`\\xf1\\xd0\\xd7%\\xcd\\xd0\\r\\xbd\\xc08\\x14\\x1d\\x83\\xa0\\x04\\xfbS;\\xe3\\xa5C5\\xd2D6\\xa7\\'\\xd6\\x9cc\\xcc\\xc7rWt\\x8c\\x12\\xd8\\xf6\\x02\\xa9Os\\xbb\\xbe\\x05V\\x96\\xe1\\x98\\xe4\\x9a\\x81\\xe5\\xc2\\xe3\\xbdvB\\x9aD6J\\xf2d\\xf3Q\\x97\\xe6\\xa0y\\xa9\\xa1\\xff\\x003[\\x92\\\\\\x8d\\xb9\\xad\\x18\\x1btD\\x1fJ\\xc8\\x8d\\xabB\\xd5\\xff\\x00Z\\xce\\xa6\\xc0\\x89\\xdc\\xef@\\xeb\\xdb\\xe5<TM\\xc9\\xa7\\xc6Cy\\x8b\\x8e\\xa3?\\x95G\\x8c\\xf3\\xe9\\xeb\\\\\\xc0\\x03\\xa58/<qH9\\x18\\xa7\\x8ei\\x00\\xa1zu\\xab1\\x00*\\x14\\x19\\xe9\\xd6\\xac\\xc2\\xbe\\xb4\\\\\\x19*\\xafzd\\xa7w\\xca)\\xe4\\xe0b\\x964\\xc9\\xf7\\xa5\\xccd\\xd5\\xd8\\xd8\"\\xd8\\xc1\\xbd+F\\xca/1\\x88\\xe4\\xf1\\xc6\\x07Z\\x89\"\\xc7\\'\\xad[\\xb0&;\\xb8\\xc8\\x04\\xfc\\xd8\\xe0\\xe0\\xf3\\xc7\\xf5\\xad\\xa8O\\xde\\xd4\\x99F\\xe8\\xa3\\xa8X\\x00\\xdb\\xb2v\\xb7\\x04c\\x1e\\xfd\\xaa\\x94R\\x08[;\\x8b) \\x10:\\xf59?\\x87\\xf45\\xb9\\xac(Q\\xb1\\x01\\xda\\x0f~\\t\\xf7\\xfe_\\x9d`\\x8cn\\x8d\\x89\\xea\\xd9\\x07\\x1f^?/\\xf2+\\x9b\\x14\\xd4j\\xe8:kB\\xf3\\xa0\\xc6F=\\xa9\\xa99N\\xe7\\x03\\xbd\\x16\\xc8E\\xa4`\\x8cm\\x18\\xc6s\\x8cq\\x8aV\\\\d\\x9cb\\x9c]\\xcaq&I\\x99\\xf9-\\xf8\\xd4w\\x13,\\x08]\\xdb\\xe5\\xeb\\xc9\\xaaW\\x17\\x89h\\x85\\xcb\\x04Q\\xdd\\x8f\\x15\\xc8k\\x9e\"k\\xcc\\xc3\\x03\\x1d\\x9d\\xdb\\xd6\\xb6\\xa7\\x07&+6U\\xf1\\x06\\xa8u+\\xe6\\xdb\\xfe\\xa9\\x0e\\x14\\x7fZ\\xc9\\xa2\\x8a\\xefJ\\xca\\xc8\\xd1+ \\xa2\\x8a)\\x8c(\\xa2\\x8a\\x00\\x05\\x14\\n(\\x01h\\xa2\\x8a\\x00(\\xa2\\x8a\\x00JJ;\\xd1@\\x0bE\\x14P\\x01E\\x14S\\x00\\xa2\\x8a)\\x00QE\\x14\\xc0(\\xa2\\x8a@\\x14QE0\\x12\\x96\\x92\\x8a\\x00(\\xa2\\x8a\\x00(\\xa2\\x8a\\x00(\\xa2\\x8a\\x00){RQH\\x05\\xa9\\xad-e\\xbc\\xb8H`]\\xce\\xc7\\x03\\xda\\xa1\\xef]?\\x85-\\xb1\\x1c\\xd3\\xee \\xb3l\\x1f@9\\xfec\\xf2\\xa8\\xab>H\\xb9\\x03:O\\x0f\\xe9k\\xa7\\x84E\\np3\\xee[\\x1c\\x93\\xfaV\\xfbDb\\xb6\\xb7H\\x8c\\x91\\xf9EB\\x94\\xc1\\xc8\\x1d\\x8f\\xb7\\xf8\\xd6]\\x84\\x9f>\\xc2\\x0e\\xf4\\x03,G\\x07\\xe9Z\\xf1\\xe1Q\\x07\\x0c\\xe1v\\x86~O8\\xeb\\xf9\\n\\xf3\\xa0\\xe5~fc%r)U\\xe6r\\xf21%\\x8699\\xcf\\xf9\\xfe\\x95J\\xe6\\x1c}\\xdc\\x13\\x9e\\xa2\\xb6\\x1a=\\xdc\\xe3\"\\xa8N\\xd1)(I$c U\\xcaWbH\\xcaxwg\\x18\\x07\\xda\\xa0h\\x99z\\x8a\\xd6d\\x8d\\xc9ns\\xf4\\xa6\\x18r{\\x11V\\xac&\\x8c\\xbf/=E\\x06\\x15#\\xa0\\xad\\x16\\xb7\\x07\\xa0\\xa8^\\x02;SQ\\xec\\x17(\\x18\\x11U\\x9d\\x80\\xda\\xa0\\x93\\x9e\\xc3\\xa9\\xfeB\\xa5BP\\xe5K\\x1c\\x90FNj`\\x84\\xb0\\xed\\xeb\\xf9\\x1a\\xabrA;>r\\xad\\x90q\\xfdk\\x86\\xad\\xd5K\\x1bGTl\\xdb2}\\x8eR\\xaaN\\xc5\\xe0\\x9e\\xe5\\xbb\\xfef\\xa0L\\x12\\xd8\\xe3\\xebK\\xa6d@#\\xdaN\\xf5d\\xc9\\xe8\\x0e8\\xfdqQ#\\x92\\x01<\\x1fn\\xd5\\xdf\\xcd\\xcd\\x04\\x98\\x96\\x8c\\x99\\x94\\xf6\\xebU\\xe4$v\\xa2IOQUe\\xb8`95\\xcd*f\\xd1c%\\x97hn\\xa3=k>Y8\\xceEIq&\\xe3\\x90j\\xa4\\xaa\\xc7\\x00Q\\x06\\xe2\\xf5\\x1b\\xd4\\x8aY\\xb6\\x9fZ\\x89\\xe7\\xeei\\xcd\\x13w5\\x04\\x91\\x1f\\xa5tF\\xa2\\x15\\x86}\\xa4\\x16\\xe4\\xd4\\xcb&qU^\"2i\\xf0\\x06`\\x00\\xad\\x93\\xea\\x16\\xd0\\xd0\\x8d\\xaa\\xf4\\x0cB\\xee5Z\\xd6\\xd9\\x98\\xe0\\xf5\\xfa\\xd5\\xc7\\x84\\xc6@\\xef\\xe9YN}\\x05`B\\xdb\\xb2\\x1b\\x03\\xbe\\x05N0\\xe4\\x95\\x04\\x1fJ\\x85x\\xe3\\x9a\\x9e3\\x86\\'\\x1ct\\xac\\x1b\\x0b\\r\\xe9\\xd8\\x8ar\\x8c\\xf4\\xa4\\'<c\\x9e\\xf5\".q\\x8a\\x9b\\x85\\x89c^\\x99\\x15c!x\\x1dj4\\xe0`rjtA\\xd4\\xf3QrX\\xa9\\x19\\'\\x9a\\xb0\\x8a\\x17\\xa55EH:T\\xb6+\\x0e\\x1di\\xe8\\xce\\x92\\x02\\x85\\x83n\\xc2\\xed\\xeb\\x9c\\xff\\x00\\x8d\"\\xfa\\xd4S9E,\\xacC\\x00H#\\x82*\\xe1+\\\\M\\x16\\xb5H\\x10\\x88\\xc6@\\xd8\\x98\\r\\x9e\\x83h#\\xf4\\x15\\x8e\\x14\\x8b\\x86\\x0e\\xfd~\\\\\\x8e\\x9fZ\\xd9\\xd5\\\\[[eF\\xf6\\\\F1\\x8f\\x93\\xa0\\xcf\\xe5\\xf8\\xe0\\x9a\\xc0\\x92B@\\x18\\xc0\\xf5\\xcfO\\xf3\\xfd*qI\\xf3!@\\xd1I\\x04v\\xea\\x07\\x18\\x195\\x8d\\xaa\\xeb\\xf6\\xf6(F\\xe0\\xd2v\\x03\\x93X:\\x97\\x89\\xe5\\x99|\\x9b@B\\xe3\\x1b\\xab\\x0c\\xc3,\\xec]\\xc9$\\xf75\\xd9G\\x0fey\\x0fr]CV\\x9fP\\x90\\x99\\x18\\xec\\xec\\xbd\\xaa\\x8dZ\\xfb\\x19\\x1di\\r\\xb6+\\xb1$\\xb4C\\xd8\\xae\\x01=*x\\xed\\xc9\\xebSCjK\\x0e+F+Lv\\xa4\\xe5`L\\xa2\\x96\\x9e\\xc2\\xa4\\x16\\x83\\xfb\\xa2\\xb5\\x12\\xdb\\xda\\xa4\\x16\\xe0v\\xa5\\xccZ1Z\\xccz\\n\\x82K@:q[\\xefl\\x0fj\\xab%\\xb1\\x19\\xc0\\xa5\\xcc\\x160\\xda\\x06\\x07\\x8ao\\x94\\xd5\\xa8\\xf6\\xe7=)\\x86\\x0c\\x7f\\r>aX\\xcd\\xd8\\xc3\\xa8\\xa4\\xc1\\x15\\xa2a\\xf6\\xa8\\xda\\x10i\\xa9\\n\\xc5**\\xc9\\xb6\\xf4\\xa2\\x9d\\xd0\\x15)qE\\x14\\xc0)(\\xa5\\x14\\x00QE\\x14\\x00QE\\x14\\xc0(\\xa2\\x8a@\\x14QE\\x00\\x14QE0\\nJZJ@-%\\x14S\\x01i(\\xa2\\x80\\x174\\x9d)qE\\x00\\x1d\\xa8\\xa4\\xefGz\\x00Z\\xe9\\xbc/4R\\xdb\\xc9l\\xfb7\\x86-\\xcfR\\xa4`\\xe2\\xb9\\x9a\\x92\\t\\xde\\xdat\\x963\\x86S\\x91Y\\xd4\\x87<l\\x07\\xa8\\xda\\xae\\xc0J\\x86\\xe4\\x0eKg\\xdb\\xfc\\xfdj\\xe2L\\xc8\\x0f \\xfe\\xb5\\xcei:\\xe2]\\xc4\\n\\x91\\xbb\\x1f2g\\x91\\xfe\"\\xb6>\\xd7\\x13\\xa6\\x14\\x91\\xf8W\\x9dg\\x17fE\\x8bO~\\xef\\xf2\\xab\\x10\\x00\\xe4g\\x9a\\x88rrO&\\xa2\\x89\\x10\\x92\\xcb\\xd4\\xf5\\xa9q\\xf8U\\n\\xc3\\xb7`v\\xa5RH\\xe0\\xd2`}h\\x03\\xb8\\xaaL,<\\x1c\\xf5\\xc1\\xa5*\\x0f\\x1cS>\\xa2\\x82q\\xec*\\x93\\x17(\\xd7\\x8bo \\x0c\\xe2\\xb2\\\\g\\x19\\xc0;\\xf2q\\xc1\\xadr\\xe4py\\xac\\xab\\xc4\\xdb1\\x00\\x1c\\xb1\\xf9H\\xea\\x01\\xc6q\\xf9\\x0f\\xca\\xb9\\xf1\\n\\xedH\\xd2\\n\\xda\\x17\\xf4\\xeb\\x90\\x1cE\\x90\\x84`F}Ny\\xfd;\\xd5y\\x9f7\\r\\xf3&\\\\\\x06\\xc0\\x1bX\\x1e\\xf9\\x1e\\xbd:z\\xd5;i\\xd2;\\xc4\\xf3U\\n\\x9c\\xf2y\\xc0\\xf5\\xcfj\\xd4\\xbc]\\xf1\\t\\x00]\\xe82\\xe4rB\\xe7\\x03\\xbf#\\xfc+X]\\xd3\\xf4\\x13\\xd1\\x94\\xe49\\x19\\xac\\xfb\\x86\\xd8\\r[,\\xd8\\x1c\\x01\\x9ez\\xd5\\x1b\\xcc\\xe35I\\xdc\\xb4V,z\\x9c\\xd4mp\\x01<f\\x879QU\\x1d\\xbd\\xe9\\xf2)nU\\xc9\\x9e\\xe3\\xd8Uy$\\xdd\\xdf\\x14\\xc6n85\\x19nkH\\xc1 \\x1c\\xed\\xf2\\x10M%\\xa1\\xe6\\xa2\\x95\\x8e\\xdcT\\xd6\\xe3\\x08*\\xfa\\x0f\\xa1\\xa1\\x0c\\xa5[\\x8a\\xd2iL\\x89\\x19\\xee\\x075J\\xce\\x04s\\xfb\\xc7\\xc7\\xd2\\xad\\xb2\\x85}\\xa0\\x82;W5I+\\x88x\\xe9O\\xc1Q\\xc1\\xc0\\xa6\\xaac\\xde\\xa5U\\xcf\\x15\\x83\\x90X\\x15I\\xe4U\\x98\\xd7\\x8e\\x9c\\xd3c\\x8f\\x8cU\\x85\\x18\\xa8r\\xb8\\x0e\\x8d0*U\\xc50\\x1fJ\\x91A\\xeai\\n\\xc4\\x80\\xf6\\x14\\xf5\\x1f7<S\\x00\\xe0R\\xb3\\x81\\xc1\\xa0\\t\\xb7\\x05\\\\\\xf7\\x15\\x1chdvO\\x94\\x83\\x1b\\x93\\xbb\\xa2\\x8d\\xa7\\x93\\xf4\\xeb\\xff\\x00\\xd7\\xaaf\\xf1^\\xf6;u9v\\xc9?@3WmH\\x17\\x9bJ\\xb9\\\\\\x82F\\xec)\\x1b\\x81;\\x8f\\xa7\\x07\\xb7\\xa5Z\\x8b\\x89\\x12w45\\xd2\\xa2\\xd8\\xb0\\\\\\x07\\x046\\xderz\\xa9?\\xa5rS0\\x8b,\\x0e\\x1cs\\x8c\\xff\\x00\\x9fO\\xf3\\xcdt\\x9a\\xfd\\xc0U\\t\\x9c\\x96\\x1b\\x88\\x1c\\xb1n:\\xfe\\xb5\\xce]\\x95)!\\x1b7\\x85c\\xf5\\xe38\\xfd\\x7fZu\\x9d\\xea$(\\xecq\\xb6\\xf0\\r\\xa0\\xe3\\x9a\\xba\\x90\\xf1\\xd2\\x92\\x15\\xc2\\x8a\\xb2\\x80w\\xafR\\xe2R!0g\\xb5:;\\x1d\\xc7\\xa5[\\x8f`\\xeaEN\\x98\\'\\x8a\\x89I\\xa19\\x15\\x92\\xcc)\\xe0U\\x95\\xb7\\xc0\\xe9Wa\\x88c\\x9a$\\x01k\\x1emH\\xe6)\\x9c%Fe\\x19\\xa7Nz\\xd5&c\\x9e\\ro\\x15tR\\x99p\\xc8\\x18v\\xa8\\xddU\\xaa\\xb8s\\xde\\xa5V\\xf7\\xa6\\xd1J\\xa0\\xd3\\x10\\'\\xb5#[\\xe7\\xa0\\xa9\\x97\\x15 \\xdbI\\xa1\\xf3\\x94\\x9a\\xcf=\\xaa?\\xb0\\x8fJ\\xd2\\x04P\\x00\\xefJ\\xc5)#0\\xd9c\\xb5\\x15\\xb0\"\\x0c(\\xa0wG\\tE\\x14V\\xe2\\nZJ(\\x00\\xa5\\xa2\\x8a\\x00(\\xa2\\x83@\\x05\\x14\\x94\\xb4\\x00QE\\x14\\x00\\x94\\xb4Q@\\x01\\xa4\\xa54\\x94\\x00QE\\x14\\x00QE\\x14\\x00R\\xd2R\\xd0\\x02QE\\x14\\x00\\xb4t\\xa4\\xa5\\xa0\\x05Ve`T\\x90GB\\x0e1Z\\xd6>\"\\xba\\xb4!dc4\\x7f\\xedu\\xfc\\xeb\\x1e\\x96\\xa5\\xc5Kp;\\xbb\\x1d~\\xda\\xef\\x01e\\xda\\xe7\\xf8[\\x83[\\x11\\xdco\\x1fx~5\\xe5\\x9d\\x0f\\x15r\\xdfU\\xbc\\xb6\\xc7\\x97;`v\\'\"\\xb9\\xe5\\x87\\xec+\\x1e\\x9c\\xadRdg\\xde\\xb8\\x9d7\\xc6\\x0e\\x92\\x04\\xbd@P\\xff\\x00\\x12\\xf6\\xae\\xb2\\x0b\\xa8\\xee\"Y!p\\xc8\\xc3\\x82+\\t\\xc2P\\xdc,Y2\\x0c\\xf3Mf\\x18\\xe3\\xa5F[\\x8aal\\x1e\\x0f\\xe7R\\x98XylUK\\xd6\\xc6\\xc7\\xe7#\\x8e*c\\'\\xa9\\xa8g\"H\\x88\\x1dG#53\\xd5\\x14\\x91I\\x95\\x94\\x1c1\\xc6\\x02\\x8c\\x1f\\x9b\\x1crs\\xf9\\xd6\\xfd\\xbc~u\\xb0I6:\\xef\\xc1,\\xbc7|\\xe3\\xb6\\x0e9\\xfa\\xfaV\\x1a\\x1e\\x07\\xde \\x002y\\xe9W\\xacn^\\xdc3\\xf9bL\\x0eB\\x9f\\x98\\x8fo~EM\\n\\x96|\\xacREi\\x94\\xc6\\xce\\x80\\xab:0\\xdc\\x15\\xb3\\x80x\\xc8\\xf6\\xef\\xf8\\x1e\\xf5Z\\xe17)\\x1d\\xebb\\xf2&\\x89D\\x81\\x10\\xc0d\\xdavFA\\x19\\xce2;\\x0e+.e+\\x95\\xf4\\xef\\xebZ|.\\xc1\\x07s\\x1eE(\\xc4\\x1a\\xa7/SZ\\xf3\\xc4\\x1f\\x9a\\xcf\\x96#\\x93ZFE\\x94Z\\x9ax\\xab\\x063M\\xf2\\xcf\\xa5i\\xcc2\\xa8\\x05\\xe4\\x00\\xd5\\xf8\\xa0f?*\\xf1Kgm\\x992V\\xb5R \\xa2\\xb3\\xa9V\\xdb\\r\\xa2\\xbc6\\xfbNNj\\xe2.\\x00\\xcd\\x01x\\xe2\\xa6\\x8e/Z\\xe6\\x94\\x9b\\x10\\xa8\\x85\\xbaU\\x88\\xd0(\\xa4P\\x05<sY\\x81 \\xc04\\xf5\\x194\\xd4C\\x8c\\x9a\\x94\\r\\xa2\\x80\\x15\\x17\\x15\"\\x9c\\xfd)\\xbb\\x82)$\\xe0Vu\\xee\\xb5\\r\\xba\\x15C\\xb9\\xaa\\xa3\\x07-\\x89m-\\xcd\\x19&X\\xd7\\xe7 \\x0fZ\\xc9\\xbc\\xd5\\xc7)\\x0f\\'\\xd6\\xb1\\xaeu9\\xaf\\x0e\\t\\xc0\\xf4\\xa7\\xdbE\\x9a\\xeb\\x86\\x1dGY\\x18\\xca\\xa5\\xf654\\x08\\x8b\\xea2M\\'\\xccV#\\xc9\\xf7\"\\xba=:7\\x9a\\xff\\x00t`\\x96@]\\xb0\\xd8\\xfa\\x0f\\xcf\\x15\\x8f\\xa3E\\xb2+\\x82\\x01\\xe8\\xa3\\x8e=k\\xa5\\xd1\\xec\\xc3\\xac\\x93\\xb8l\\xa9\\xf9\\t\\x04\\xa88\\xeb\\x80z\\xfd\\x7f\\n\\xcak\\x9e\\xaaH:\\x19Z\\xd3\\x9f\\x91\\xd8\\xac~`\\x1f(\\xe4\\x03\\xf5\\xees\\x81\\xef\\x9a\\xc8\\xbb8\\xb3\\x9d\\xb1\\x90#bN:pk\\xa2\\xd7bT\\x8a,\\xfd\\xec\\xf5<\\x9e\\x05sW\\xa0\\x8d2\\xec\\x81\\x80#a\\x83\\xd8\\x93\\xcf\\xf8\\xfe5\\x8c\\xf5\\xaa8\\xe9\\x13\\x9aV\\xc5<Hj\\x1c\\xd2\\x83^\\xbaFD\\xe9!\\xcf&\\xaeA6:\\x9a\\xce\\xcd9_\\x1d\\xe8q\\xb8\\x1b\\xa9t\\x00\\xe2\\x86\\x90\\xb7$\\xd6RO\\x8a\\x90\\xdc\\x12+?f\\x04\\xd3=V&\\x9a\\xcc\\xc6\\x8c1\\xedV\\xa3a\\x0e\\x06\\x9d\\x9e)\\x15\\r<D{\\xd5Y\\x80\\x9b\\xbd)\\xca\\x19\\xbdh(\\x14d\\xb0\\x02\\xa3\\x9a\\xe9-\\xdd\\x90\\xfc\\xcc\\xb9\\xcf \\x01\\xf8\\xf7\\xfc)8\\x8bR\\xce6\\xf3\\xd6\\x9af\\xdb\\xf7\\x98\\x0f\\xadgK\\x7f9%\\x02m9\\x00\\xe0\\x1c\\x8f\\xc6\\xa0\\xb8G\\x172 \\x908BF\\xf1\\x91\\xbb\\xdc\\x03\\xcf\\xe6\\x05\\n%+\\x9bI|\\xa0\\x81\\x1e\\\\\\x9fAEgY\\xac\\x8d\\x03[\\xa5\\x9a\\xdcO!\\xf9\\x1b\\xe6,8\\xec\\x01\\xc5\\x14;-\\xcd\\x12\\xba9\\xfaJZ*\\x8d\\x03\\x8a(\\xa2\\x98\\x05\\x14Q@\\x07j;\\xd1E\\x00\\x14QE\\x00\\x14QE\\x00\\x14QE\\x00%\\x14QH\\x02\\x8a)i\\x80\\x94QK\\xd6\\x80\\x01E\\x14P\\x01E\\x14\\x00M\\x00%-8FM<@h\\x02*P\\xa4\\xf4\\x15:\\xc3\\xcdJ!\\xf6\\xa0W*loJ\\x04f\\xae\\x88\\xa8\\xf2\\xa8\\x171S\\xca5\\xaf\\xa3jr\\xe9\\xb2\\x05$\\xb4-\\xd5}*\\xb2\\xc5R\\xac>\\xb52JJ\\xcc\\\\\\xc7m\\x15\\xc4s\\xc4\\xb2D\\xd9\\x06\\x95\\x9c\\xd77\\xa4\\xdd4\\x0ec\\xdcJ\\x1f\\xd2\\xb5\\r\\xceO\\xb5y\\xf3\\x87+\\xb1I\\x97\\x0c\\xa0v\\xa4,\\x18\\x7fJ\\xa9\\xe6\\xf7\\x18\\xa6\\x99\\x0b\\x1e\\xb56)2E\\xf9N\\x1b9\\x07\\x83\\x8f\\xc3\\xfa\\x8a\\x9e\\xdb\\x97%\\x94\\x90\\x0e\\x07\\xcd\\xfa\\xfeu]rP\\x95o\\x9b\\xa0\\xe38=\\x8f\\xf9\\xf4\\xab6\\xec\\x14\\x82y\\x1d\\xfe\\xbf\\xe4W4\\xbd\\xd7q\\xb3p@\\xef\\x038\\x8c\\xef\\xdaT\\xf9\\x80?\\x18\\xce0\\x0e\\x7f\\x1e}\\xab\\x12\\xf6\\xd8\\xc0q \"T\\xf9d\\x056\\x1c\\xfa\\xe3\\xf0\\xad\\xdbw\\xdf\\x1e\\xd7\\xcf\\xce89\\x006F1\\x8e\\xbe\\xd5GT*\\xb3\\x18\\xf6\\xed\\x0e2T\\x01\\x81\\xec:t#\\xa1\\xff\\x00\\xeb\\x9e\\xf6\\x94\\xe2\\xa4\\x8cS\\xb30Yj&\\x88\\x13S9\\xd8\\xc4\\x13\\xd2\\xa2.=k\\x9d\\xdd\\x1d\\x17\"6\\xcb\\x9e\\x94\\x1be\\xc7\\x02\\xa5\\xf3)\\x0b\\xd4\\xf30\\xb8\\x91\\xc7\\xb1;T\\xcb\\xcd08\\xa9\\xa2\\xc1\\xee*uaq\\xe8\\xb8\\xa9W\\xda\\x9a0\\xb4\\xe0W\\xd4U(\\x93rE\\x15*\\x01\\x8fz\\x81\\\\g\\xa8\\xa9\\x90\\x8c\\xf5\\xa3\\x94.L\\x9cu\\xa2k\\x81\\x12\\xe6\\xa1y\\x95{\\xd5+\\x89\\x83\\xe4\\x03U\\nWd\\xb9\\x90_\\xde\\xcdp\\x85P\\xed\\x15\\x86\\xf1\\xba\\xb9\\xdc\\t\\xf7\\xadWNr*2\\x01\\xfb\\xc2\\xbb \\xb9\\x16\\x86o\\xde)\\xdb\\xa6O5\\xab\\x02\\x80\\xb5O\\xca\\\\\\xe4qG\\xcc\\xbd\\x1f\\x14\\xdbl\\x9eS\\xa6\\xd2p`\\x9bp\\xc8\\x0c\\xb5\\xbdk\\x7f\\r\\x9d\\xb4\\xb2?/\\x95\\xd8\\x839\\xc7s\\xcf\\x1d}=+\\x9e\\xd0\\x8b\\r7s\\xf2^R\\x7f\\x01\\x81\\xfc\\xc1\\xab\\xbf0;\\x95\\xca\\x10r\\x0ey\\xcdqM\\xb8\\xcb\\x99\\x15m,.\\xbb{\\xe7\\x18\\x88\\x18\\\\\\x9eH \\x1c\\x9e\\xa3=G\\xff\\x00^\\xb0\\xb5\\x16\\'F\\xb9`s\\xb8\\xaa\\x0c}A\\xfe_\\xce\\xb7\\x1fOk\\xd5\\n\\xb8\\x03\\x1cg\\x8c\\n\\xc8\\xd7\\xac\\xa5\\xb6\\xd2\\x8c,\\xa4\\xb0\\x94\\x16lt\\x00w\\xfcqN\\x14\\xe5*\\x8am\\x02\\xb2V9\\xa5\\x80\\x11\\x96`*U\\xb4g\\x1f\";\\x0f^\\x95n\\xc3L\\xf3\\x0e\\xf2p\\xbe\\xd5jt\\x10\\x1c\\xc6O\\xd2\\xbb\\xdc\\x99\\x161\\xcd\\xb9\\xed\\x9f\\xa1\\xedJ\\xb6\\xac{\\x1a\\xd7KW\\x9f\\x12\\x08\\xc8oV\\xe0\\x1a\\xb2\\xb6\\xae\\x8c\\x00\\x8dX\\xfa\\x03V\\xa7\\x1d\\x98\\xacc\\xc7f\\xdf\\xdd\\xa9\\xd6\\xcc\\x81\\xc8\\xab\\xd3\\x1b\\x88\\xb3\\xfe\\x8d\\x8f\\xc7\\xff\\x00\\xadX\\xf3j\\xce\\xccU#v \\xe3\\xd0~f\\xb4N\"\\xb3.\\xc7hdp\\x89\\x82{\\x93\\xd0U\\x8b\\xad),b\\xdd=\\xe4A\\xba\\xed\\x04c\\xf3\\xe9X2\\xea\\x97\\xcc\\x83c$+\\xddS\\xaf\\xd4\\xd6{\\x86v\\xdd#\\x16o^\\xb9\\xfcj\\x13w\\xd4\\xbb#^k\\xe8#b\\x12A\\'\\xb8\\xe0~\\xb5&\\x9fq\\x15\\xe5\\xc0In`\\x80z\\xbeN\\x7f\\xc2\\xb1\\xd6\\x04\\xca\\xee\\xdeq\\xd4c\\x15bu\\x85\\xc0\\x10!C\\x921\\xcep={P\\xdb\\xb0h\\x99\\xd5\\x7fe\\xe8r!7\\x1a\\xdc\\xaa1\\x9f\\xf4dS\\x8f\\xd4\\x91\\xf9\\xff\\x00\\xf5\\xab\\xdei\\xfe\\x17\\x16\\xee\\xf6\\xfa\\x9d\\xcf\\xda\\x07O0\\x06\\x07\\x1e\\x84\\x00A\\xfa\\xd7.\\xb1\\xef\\xdc\\t\\xdb\\x8ey\\xfc\\xbaR\\xe3\\xf7[W\\x91\\x9c\\x9f\\x97\\x04~=k>Y^\\xf7\\x1b\\x94^\\x96%y!\\x8eW\\xf2X\\x90\\xa7*\\xd8\\xc9c\\xef\\xc8\\xe3\\xdc~T\\xe3\\xa8I!\\xdf,0;\\x15\\xce|\\xa2\\xbb\\xbd\\xf2\\xb85X\\xc3\\xbbj\\xc7\\x96\\'\\xaeF9\\xa9\\x18]\\xc3q\\xf3\\xe5$N\\x0ey\\xc7\\xf8\\xd5{\\xc4\\xe8h\\xda\\xb9XD\\x8de\\x16\\xc7\\xe1^M\\xe1q\\xd3\\xa9\\xce\\x7f\\xfa\\xf4V|\\x97w \\xab\\x17E(\\x9eP!@ s\\xc7Os\\xcf^h\\xa6\\xd2\\xea\\x1a\\xf41\\xe8\\xa2\\x8a\\xa3q{RQKL\\x034QI@\\x0bE%-\\x00\\x14QE\\x00\\x14RR\\xd0\\x02R\\xd2R\\xd0\\x01IE\\x18\\xa0\\x02\\x8apRz\\n\\x90B{\\xd0\\x04T\\x95dCG\\x91\\xedHW+\\xe2\\x9c\\xa8MXX}\\xa9\\xeb\\x1d\\x17\\x15\\xca\\xe2*\\x95b\\xc7j\\x98%<-\\x17\\x15\\xc8\\xd6<v\\xa7\\x84\\xa9\\x02\\xd3\\x82\\xd2\\xb8s\\x11\\x04\\xe6\\xa4\\t\\xc5;\\x1c\\xd3\\x87\\x14\\x12\\xd8\\xd1\\x1ez\\x0c\\xd0\\xc8Tgi\\xc0\\xf6\\xab\\xd0)X\\x03\\xf1\\xf3V\\xad\\x9e\\x96\\'\\x8d]\\xd9\\xcb\\x0e@P\\x00\\xfdFO\\xe1Q\\xce\\x06E\\xb6\\x93{t\\xa1\\xa3\\x85QO\\x19\\x91\\xb1\\x9f\\xc3\\xadI/\\x87\\xf5$\\xc0\\x0b\\x13\\x83\\xdd\\x1c\\x0f\\xe7\\x8a\\xe9\\x9a9\\xac\\xe3\\n\\xd12\\xe4q\\x9e?\\x9f5$k*\\xe1\\'WF#p\\xde0H\\xff\\x00?\\xce\\x85;\\x8a\\xed\\x1c\\xcd\\xbe\\x9f=\\xb8+\"\\xa8ocVb\\x8c\\xe3\\xe6~+jF\\x128X\\x99\\xd9\\xb3\\xd0t\\xfcj\\xad\\xc5\\xb1b\\xcc\\xc0\\x0fn\\x07\\xebYI%\\xab-J\\xe6qG\\'\\x11\\xb2\\x93\\xefJ\\xdb\\xd3\\x00\\xed\\'\\xd8\\xd424\\xd6\\xf3|\\xf91\\xe7;\\x94rG\\xa5i6\\xa1\\xa7&\\x9f\\x1a\\x94\\x98\\x92\\xd98\\x84\\x06?\\xf0,\\xd4\\xf2\\xc5\\xad\\n \\xb3\\x90\\xbc\\x8c\\x84\\x0f\\x9dN\\x06}9\\xfeY\\xab\\n\\xbb[\\x90\\x00\\'\\x8ez\\x9e\\xbf\\xd35\\x935\\xf4\\x02u\\x92\\xd2)\\x83\\xab\\x027\\x81\\x8f\\xc7\\x9ekt\\x00\\xd1#\\xa1\\xca? \\xe7\\xafS\\\\u\\xd5\\xb5\\xb1E\\xbd-\\xe4`\\xd1c \\xae\\x07\\xccy\\x1d3V\\xf5\\x18c\\x96\\xcb\\xcdX\\xbat;\\xc8\\x03\\x9cg\\x18\\xe4\\xfdk62\\xc8\\xa8W\\xa8\\xe4\\xe7\\x8c\\xfbT\\xc2\\xe8\\xba\\r\\xcf\\x97\\xcb\\x13\\xfd\\xd1\\xf4\\xef]8z\\x9e\\xef+1\\x9cu\\xba2\\xef,\\xfc\\xd8\\xc9\\x07cz\\xfaW=t.\\xed_\\x12t\\xec\\xc3\\x90k\\xb71\\x8d\\x9b\\xb6\\x8d\\xa7\\xfd\\xa0H\\xcf\\xf2\\xa9-\\xb4\\xc8n\\xa4\\t\\xe5\\xa1\\x0cy\\xdc+\\xa1S\\xe6\\xdd\\x02\\x9d\\x8e\\x05/%#\\xa15 \\xbc\\x90uS]\\xd6\\xa1\\xe0\\xab5\\x8c<Q\\x80=bb\\xa4\\xfdEcK\\xe1\\x18X\\x93\\x14\\xd3\\xc6}\\t\\r\\xfaq\\xfc\\xe8\\x96\\x11\\xae\\x85\\xaa\\xa8\\xe7\\xcd\\xeb\\xfa\\x11N\\xfe\\xd1q\\xf7A\\xadY<!v\\x010\\xce\\x8c=\\x19\\x18\\x7f,\\xd5y\\xbc-\\xaaB\\x9b\\xbc\\xb4\\x90\\x13\\x8f\\x91\\xff\\x00\\xc7\\x15\\x93\\xa3\\xcb\\xba)I2\\x93_N\\xdc\\x0e)\\x9fj\\xb8\\xcf\\xdf\\xadh<%z\\xea\\x0c\\xee\\xb1g\\xa0\\x00\\xb1\\xfe\\x82\\xa9j\\x9a-\\xc6\\x94\\xab$\\x8c\\x1e7b\\xa0\\xe3\\x04\\x11\\xea*\\x17.\\xc3!K\\xb9\\xf7}\\xfcT\\xe2\\xfas\\xc7\\x99\\xcdg\\x82@\\xea\\r8rrz\\x8a\\xaeT\\x05\\x99/.\\x179l\\xd4K\\xa8\\xba\\xb7\\xcfPI8\\x07\\x1c\\xd0\\x83\\xcd^\\x00\"\\xad$\\x89\\xb1u5\\x15\\x90\\xfaT\\xc2U~\\x86\\xb2\\x9a\\xd5\\xd4\\xe4\\x0e\\xb4\\xd8\\x9ee\\x90*+3\\x7ft\\x0c\\x9a\\xb8\\xa6KF\\xd2\\xed=jX\\xad\\x0c\\xee\\x15;\\xf7\\xf4\\xa6YX\\xdcL\\x01\\x95J\\x0f\\xd6\\xb5\\xd1\\x05\\xb8\\t\\x18\\xcf\\xa9\\xabp\\xbe\\xa4\\xb9X\\xd1\\xb7\\x84E\\x12\"\\xf1\\x1a\\xa8_\\xa5\\x12\\xb6\\xc6\\x0b\\xf2\\xfc\\xdd\\t\\x06\\x9d\\x0c\\xcc\\xd0\"\\x11\\xb4\\x83\\xd6\\xaf\\xa5\\x95\\xb4\\xe9\\xfb\\xd9\\x8e\\xef\\xe5IF\\x1b\\x10\\xef\\xb8\\x96wH\\x98W\\xc7N}\\xa9\\xf7\\xd6\\xd0\\xbc~c\\x15!\\x869\\xe75\\x97uf\\xd0\\xc8Z\\x17\\xdd\\x8f\\xce\\xa03\\xdb\\xc5\\x16\\xeb\\x99\\xe4\\xf3?\\xb8\\x06j\\xd7ay\\x916\\x91n\\x8cB!\\x03\\xfb\\xa1\\x8e)\\xd1\\xe9\\x89\\x1f.\\x8a\\xa3=\\xcf&\\xa9\\xcd\\xad\\xb2\\xe4[\\xa6\\xc1\\xea\\xdc\\x9a\\xa36\\xa3;\\x9ee?\\x85W2B\\xb3:9\\x15\\x02\\xaa\\x86E\\xf4\\x19\\xe4\\xd6\\xa6\\x9fn\\x90\\xc7\\xbd|\\xb0\\xff\\x00\\xdec^y%\\xd3\\x16\\xc9bM5u\\t\\x00\\xc1v#\\xebX\\xb8\\xb7+\\x96\\x9aH\\xef5),`S%\\xcd\\xd2\\xca\\xf8\\xe1c\\xe4\\xd7\\x9d\\xdcN\\xaf<\\xa7\\x19RIQ\\xe9Ius+\\x8e\\t\\x02\\xab\\xaf\\x03#9\\xf7\\xad\\x12$|L\\x8b(f\\x88:\\xa9\\xc9S\\xd0\\xfbV\\x8d\\x85\\xed\\xa5\\xbd\\xcbI&\\x9d\\x1c\\x91\\xb1\\x04!\\xe8\\xa7\\xf9\\xd5\\x05O\\x94\\x10Ic\\xd6\\x83\\xbb\\x1d\\x08\\x04\\xd5Xi\\xd8\\xd4\\xd5u8./\"\\x9bN\\xb6\\x16l\\xa3\\r\\xb3\\xa15\\x90w3\\x9cd\\x1e\\xbdir\\x0f;\\xbf\\n\\x18\\xe1y\\xe74\\n\\xf7\\x1a\\xb2m9\\x1b\\x81\\xeb\\x91Ng^\\xb8\\xe7\\xe9R\\xb4\\xcb(RbP\\xe3\\x8e8\\x04\\x01P2\\xf7\\xc8#\\xd2\\x80\\x1c\\xf3!\\x84 \\x85U\\xc3d\\xc8\\x19\\x8b\\x1fl\\x13\\x8f\\xd2\\x95\\x1d@\\xc7\\xcc;\\x82z\\x1a\\x87i\\xcf\\xcb\\xc5*\\xf0(\\xb8\\x17\\xad/%\\xb1\\x98\\\\Z\\xcc\\x16]\\xa7v@ \\x83\\xdb\\x07\\xad\\x15L`\\x81\\xedE\\x02\\xbb2(\\xa2\\x8a\\x0e\\xa0\\xa2\\x8a(\\x00\\xa5\\xa0Q@\\x05%-%\\x00-\\x14Q@\\x05\\x14P\\x01&\\x80\\x12\\x94)5*E\\x9a\\x9d\"\\x1e\\x94\\t\\xb2\\xba\\xc4MJ\\x90\\xfa\\xd5\\x81\\x15H\\xb1\\xd0K\\x91\\x02\\xc5R\\x08\\xfd*o.\\x9c\\x17\\x14\\x85\\xcc@#\\xa5\\xf2\\xea^\\x05\\x19\\xa4K\\x91\\x18J]\\x95 \\x19\\xa0\\xd2\\x15\\xc6\\x04\\xa3\\x1e\\x82\\x94\\xf1\\xd7\\xbfJk\\xba\\xc5\\x8d\\xe4\\xfe\\x02\\x95\\xc3Q\\xc0R\\xd4\\rt3\\xf2\\'\\xe7A\\x96S\\x8f\\xba\\x01\\xf4\\xa2\\xe1fN9\\xa7c\\x03\\x9a\\xae_\\xa7\\xceH\\x1e\\x94\\xa6M\\xd1\\x81\\xe4\\xee\\nz\\xed\\x00\\x9f\\xad.`\\xe55\\xb4\\x9b\\xabH\\xe6\\x0bv\\xe4\\xa8\\xfb\\x81FF{\\xe6\\xbb\\xcd;^\\xd2\\xed\\xa3EI$p;,8\\xcf\\xe6Ey\\x92\\xa3\\xb66\\xaa\\'\\xd7\\x9a\\xd7\\xb0\\x88\\x91\\x83*)=\\x8f\\x19\\xa8R\\xb3\\xb9oc\\xab\\xd5|Gc,\\xa5\\xa3\\xb2\\x9ef?\\xdf\\xd8\\x9f\\xc8\\x9c~U\\x81{\\xab\\xddj\\x17\\x06Yb\\x08@\\n\\xa8\\x0e\\x02\\x8fJ\\x90\\xda\\xca\\xe7qd\\xfa\\x06\\xaa\\x97\\nm\\xce$\\\\g\\xa7zN\\xa716D\\xfaL\\xadqra\\xe69\\x89\\xc6\\xd6l\\xef\\x1e\\xd5\\xd9\\xdbh\\xd1\\xc5\\x1bI-\\xac\\xee\\xfbp\\xacc\\xdc\\xa0\\xfd:W\\x9c\\xcaQ\\x88\\xf3>q\\xe9\\xb4U\\xb6\\xd4\\xdc@\"\\x8d\\xe4\\x89G\\xf7$aJ0\\xdd\\xb2\\x9b:{\\xad\\x14\\xe4\\x84\\x8ev>\\x84q\\xfc\\xab\\x98\\xd5\\xac\\xda\\xca\\xeb\\xc9*\\x14\\x95\\r\\xb7\\xd3\\xaf\\xf8T\\x12j\\x138\\xc3]]\\x15<a\\xa5$\\x1a\\xae\\x18\\x02[\\x93\\x9e\\xb95\\x9a\\\\\\xacw#l\\x8e@\\xfc\\x8do\\xe8\\xf3\\x194\\xdd\\xac\\xa0\\x95%FOn\\xdf\\xcc\\xfeU\\x86e\\x07\\xa7_z\\x96\\x0b\\xab\\x8bb\\x1a2\\n\\xff\\x00\\x12\\x91\\xc1\\xa6\\xe3\\xce\\xac\\x17\\xb1\\xd2\\xb6\\xdd\\xdb\\xd5\\x97i\\x03,z\\xd4\\xb0C\\xbd\\x86\\x18\\xb2\\xe7\\'\\xb9\\x15B\\xda\\xfa+\\xae#l?\\xf7\\x1b\\x83\\xf8V\\x95\\x9eH>^\\x03{\\xf4\\xac\\xd4\\x1c\\x187sf(\\xec\\xde\\x06Y7\\xee*\\xca\\xa7\\xaf\\'\\x9ej\\xa4\\x1b\\xa2$\\'Ztq3d\\xee\\'\\x9c\\x9c\\x9e\\x94\\xe8\\x909$\\xfd\\xe5\\xeb]\\x9e\\xd6\\xf63\\xe5e\\xe8\\xaf\\xdd\\x14o\\x87#\\xb9\\x1dh\\x9a\\xcfx\\x13\\xd9\\xe1\\x93<\\xf1\\xca\\x9ae\\xbc\\x84\\xb1\\x067\\x00{f\\xb4\\xadm\\x97q\\x00\\xe3p\\xe5Gz\\xda8\\x85\\xb4\\x85\\xc9\\xd5\\x14b\\xbd\\x8a2<\\xe8F\\xee\\xc5\\x06\\t\\xfcz\\xff\\x00J\\xa6\\xfe,\\xd2\\x9a\\xef\\xc8\\x97\\xcc\\xb4a\\xdex\\xf6\\x03\\xff\\x00\\x02<\\x7f*\\xd5\\xbe\\xb0\\t\"\\x19\\x18\\x0e08\\xe9\\\\\\xed\\xdd\\xb4W2\\x98R\\x05\\x95\\x89\\xf9\\x99\\xb9\\x15\\x9dg\\x16\\xb4e\\xc1\\xb5\\xb9\\xbf.\\xa3d\\x96\\xa6\\xe1\\xef\\xec\\xe3\\x89\\x97\\xef\\x07BH\\xf6\\xeaO\\xe1^g\\xe2Mg\\xfbR\\xf4y*\\xc2\\xd2<\\x88\\xcb\\x0c\\x17=\\xdb\\x15\\xd9\\xda\\xf8N5]\\xce\\xb1\\xc4=\\x14\\x0c\\xd6/\\x88\\xb4[X\\xa2p\\x8f\\x1a\\xc8\\xa3*s\\xc95\\xcb\\x18=\\xech\\xe5\\xa9\\xc8)V\\x18j\\tX\\xc6rH\\xa7\\xad\\xab\\xab\\x0c\\x11\\x83O\\x92\\xcc\\x0e\\x8e0z\\xe2\\xa9E\\x8e\\xe3m\\xb4\\xf9o\\xdf*\\xbbP\\x9cn\\xeek~\\xcb\\xc2LAe\\x82~\\x07,[\\x8f\\xf0\\xaa\\x9a~\\xa3&\\x9fn\\xb1F\\x91\\xb6\\x0er\\xcb\\x93W\\xdb\\xc4\\x97\\x85~Q\\x1a)\\xf4\\x15qZ\\xeaC\\x97bU\\xd1#I\\x1a2>t\\xfe&~*X\\xb4\\xd2\\x8b\\xba1\\x08\\x1fPI\\xacYu\\x1b\\x99d.&`O\\xa1\\xc5F\\x19\\xdca\\xbau\\xae\\x85Q%\\xb1\\x9bW\\xeatMm0\\x04\\x89m\\x94\\x8e0\\xf2\\x01P\\xbc\\x12G\\x87\\xf3\\xa0;y!\\t?\\xd2\\xb1\\x81\\nrNh\\xf3\\x17\\x9e\\x82\\x89TOK\\tF\\xc7c\\xa5jZda\\x96\\xf4\\xfc\\xddF*\\xcc\\xfe\"\\xd2bS\\xf6xK\\x9fz\\xe0\\x0c\\xa4\\x9aPY\\x87\\x19\\xacTJ\\xb9\\xd4]\\xf8\\x99\\x9dH\\x86\\x08\\xd2\\xb9\\xbb\\x9b\\xb6\\x9eB\\xee~s\\xe9P\\x1d\\xc3\\xaej\\xbc\\x8cE]\\x89\\'f\\xc8\\xebQ\\xba\\x9cf\\xab\\xf9\\xa75#\\xdc\\x82\\x98\\xc74X\\x10\\xd3\\x9c\\xe4\\x9e)\\x92\\x95\\x071\\x9c\\xd2\\xc6\\x82_\\xe2\\xc1\\xf7\\xa9\\xe3\\x86%\\x8d\\x83\\x80_\\xb1\\x15j!fS\\r\\x823\\xcf\\xb5)!{b\\x9c\\xd1\\xedl\\x90E+\\xf2\\xb8\"\\x98\\x83x+\\x81HK\\x15\\xc1\\xe4S@\\xc1\\x18\\xe9O\\x1f;d\\x1cb\\x90\\x0cH\\x81\\xea\\xd8#\\xb59\\xf7\\xbe\\x106Qz\\nY$\\x0c\\xc3=ED\\\\\\xabddP1\\x1c<d\\x06\\xc8\\xf4\\xa5\\r\\x83\\xd7 \\xf5\\xa5y\\x0b\\xaf#4\\xd4\\x8cl\\xcf_j\\x04<\\xaa\\x0eP\\xfe\\xb4\\xb2D\\x0b\\x06B\\x07\\xb5DH\\x1fw\\x91R\\xdbN \\x94;&\\xf09\\xc1\\xe9@\\xacBXg\\x1c\\n*{\\xa9\\xd2\\xe5\\x89\\x08\\x14g\\x8a)X\\x0cJJ(\\xedL\\xea\\n(\\xa2\\x90\\x0bE%(\\x04\\xf4\\xa6\\x01EJ\\x96\\xec\\xddx\\xab\\x11\\xd9g\\xaf4\\x9b\\x02\\x96)B\\x93\\xd0V\\xb4zx\\xf4\\xa7\\x9b@\\xbd\\x16\\xa7\\x9d\\x01\\x90\\xb1\\x13\\xda\\xa7H\\xb1W\\x1a\\x0e:SDx5I\\x90\\xd9\\x1a\\xc7\\xc5J\\xa9R\"T\\xf1Bdu\\x8d\\x17s\\xb1\\x00\\x0c\\x81\\xcf\\xd4\\xf0)\\\\\\x86\\xc8\\x02qN\\x03\\x15h\\xd9H.\\x8d\\xbb\\x98\\xd5\\xc1\\xc1>b\\x95\\xfc\\x18\\x12\\x08\\xf7\\x04\\xd4sZ\\xb4`\\xe5\\x93#\\xb0=h\\'VC\\x9aBsP\\xc9!V\\xc6\\xf0\\x07\\xb0\\xa61S\\xd4\\x93\\xf5\\xa4;\\x13\\x16Pya\\xf9\\xd0Y\\x14e\\x9f\\x03\\x19\\xf7\\xaa\\xcc\\xcb\\xb7\\x02\\xa3P7\\r\\xdd)\\\\,\\x8b\"\\xe8+\\xa9PX\\x03\\xc8\\xe8\\rh\\x8b\\xc7km\\x91A\\x02\\x03\\xd4\\x91\\x93Y,\\x17p\\xdbN\\x0b!\\xe8M\\x17\\x1d\\x8bR\\x95\\xda7\\xc8A\\xf6\\xaa\\x93l\\xfe\\x16\\'\\xebG\\x90\\xed\\xd75*\\xd9\\x9czQn\\xc8W*\\xaa\\x92{\\xd4\\xab\\x01,98\\xab+h@\\x15<v\\xe0\\x0eM&\\x98\\xf9\\x91\\x02B\\x13\\x9a\\xb4\\xa1\\x8a\\xf44\\xe4@\\x08\\xa9\\x9d\\x82\\xe3i\\xa4\\xa0\\xfa\\x8b\\x98\\x80\\xb1C\\xd2\\x93t\\x8d\\xd0f\\x9d/\\xf7\\x89\\xa8R\\xe7i\\xe4\\xd0\\xe0\\x90\\xaeJ\\x1eP\\xbfy\\x81\\xf4\\xcd#H\\xd9\\xf9\\xb7\\x13\\xeesR\\xa4\\xc8\\xe3\\x93Hv\\x9eGz\\xaeU\\xd0.D\\'\\xcb`\\xaf\\x1e\\xd4\\xfe$\\x19S\\xc8\\xf5\\xa3`\\x1c\\xd2\\x04\\x1b\\xb98\\xa9|\\xc8wB\\r\\xc9\\x9e\\x94n4\\xa5[\\xb1\\xc8\\xa5de\\xc6p~\\x95.\\x17\\x1d\\xc4\\x07\\x9c\\xaf\\x07\\xe9J\\x1f\\x9eG\\x1e\\xd4\\xb1\\x97\\x1d8\\xa7\\xbc\\x04\\xb7-\\x9fu\\xa1B\\xdb\\x05\\xc7\\x1f!\\x97($V\\x1c\\x83\\x9c\\xff\\x00J\\xb5\\x16\\xb3\\xa8[\\xaf\\xee\\xe4I\\x00\\xe3\\xe6\\x1c\\xfeuU Q\\xd4\\xd5\\x88\\xe2\\\\z\\xd3\\xe5\\xba\\xd4gEk\\xaeGqn\\x8e\\x88RM\\xbf\\xbc_F\\xee>\\x9e\\x95b\\x1dN\\xda8X\\xca\\xdf\\xbc<u\\xc1\\x1e\\xf9\\xaee\\x01\\x19\\t\\x81QK\\x03\\xee\\xeb\\x9a \\x94\\x01\\xbb\\x9dd>&\\x8a\\xceL\\x86\\x0f\\x8f^\\xf5Z\\x1f\\x88\\x17\\xbb\\xca\\xde\\xdb[L\\x87\\xbcjQ\\x97\\xf5\"\\xb9f\\x86A\\xd4\\x1a`R\\x0f\"\\x85\\x05\\xb8\\xf9\\xcd\\xdb\\xef\\x16\\\\\\xdc\\xb0T\\xdc\\xa8\\x0f\\x01\\x8eMS\\x8f]\\xbc\\x8c\\x13\\x1b\\x05\\xcfSY\\xcc\\xb9\\xa6\\xe3\\xd2\\xab\\x94\\x9eb\\xf4\\xfa\\xcd\\xf5\\xc7\\xfa\\xcb\\x97 t\\x00\\xe2\\xaa<\\x8c\\xe7,\\xc4\\x9fsB\\xa1a\\xd0\\xd4\\x82\\xd5\\x9b\\x92i\\xd9\\n\\xec\\x87w<\\xd2\\x80Oj\\xb0mv\\xf54\\xe0\\xaa\\x07J,\\x05q\\x19&\\xa4\\x11\\x0c|\\xd4\\xfc\\x85\\xe9K\\x8d\\xe7\\x19\\xa6\\x90\\x11\\xfc\\xa3\\xa0\\xa5\\x0f\\xc5XK\\x1d\\xeb\\x90\\xd5\\x14\\xb0\\xb4\\'\\xda\\x9f \\xae6@6\\xf0\\x05@\\xc7h\\xe6\\x9e\\xbf9\\xc5G<d\\x0e\\xf8\\xa7\\xca\\x84\\xd8\\xcf0\\x13S\\xc5z\\xb1)\\x04U\\x17\\xf9zTD\\xe7\\xbd&\\x812\\xec\\xd7\\xaa\\xe4\\xe2\\xab<\\x9b\\xea\\x02pz\\xd3\\x91K\\x1e)!6(\\x04sO\\\\?^\\xd4\\xd2\\n\\xf0E0\\xf1\\xd2\\xa8\\x113\"\\xf5V\\xc1\\xfa\\xd3?x\\xbf\\xc5\\x9f\\xad01\\xc5\\x01\\xf9\\xe6\\x9d\\xca\\xe6h\\x90O 8e\\xcd=\\xe6G\\xc6W\\x1fN*8\\x9cy\\x83wJ\\x96C\\x11n\\xdd)\\xf3\\x16\\x9aj\\xecc\\xec\\xdb\\xc1\\xe6\\x88p8\\xe3\\x9ac\\xc4\\x18\\xe5)\\xe8Wf\\x18sJ\\xe4;t\\x12x\\x0co\\x9c\\xe6\\x98\\xc7\\xcc\\xfe\\x1cb\\xb5`\\xb5\\xb7\\x98\\x01#s\\xf5\\xaaWq-\\xac\\xa5P\\xe4R\\xba\\x1b\\x83J\\xe5x\\x88I>jt\\xc7c~\\xec\\xf1Q}\\xe6\\xe6\\x9e\\x17\\x9fZd\\x00\\xf9\\xb9\\x03\\x07\\xbd\\x19\\xc7\\x18\\xa0\\x9d\\xa7 P\\xf8a\\x91\\xc50\\x11\\x00-\\x96\\x1cQNC\\xb0\\x12y\\xf6\\xa2\\x90\\xeeb\\xd1E\\x14\\x1d!E\\x14\\xf4L\\x9a\\x00@\\xb95f(@\\x14\\xb1\\xc4I\\xabq\\xc5\\xed@\\xc28\\xb2j\\xfc0\\xf08\\xaa\\xe1\\x92#\\xcf\\'\\xd0S\\x85\\xeb\\xf4\\x89\\x07\\xe3R\\xd1.H\\xd1HG\\xa5$\\x91\\x0f\\xa9\\xfc\\xeb=\\x9a\\xeaC\\xfb\\xc6`\\xbe\\x83\\x8a\\xb3\\x13\\xacH\\x01$\\x0fL\\xf5\\xa9\\xe4\\'\\x9a\\xe4SG\\xb4\\x90T\\x8f\\xaf\\x14\\xd1\\x1a\\x00\\x0b\\x02\\x7f\\x1cT\\xf3\\xb4r\\x1f\\x90g\\xbeMT|\\x9a\\xa4\\x88d\\xc1\\xd0\\x0c\\x08c\\xcf\\\\\\x9c\\x93\\xfc\\xea\\x0b\\x89\\x98\\xf0@\\x03\\xa7\\xca1\\xfc\\xa9\\xb9*x\\x14\\xd6\\xcb\\x11\\xc52n:2\\xc7\\x91\\xc7=sNti\\x0e]\\x89&\\x9a\\xa7\\x03\\xd2\\x9c\\x0ei\\xa4.b?\\xb3.y\\xa7y\\t\\x8aV\\xf6\\xa4\\xe6\\x8b\\n\\xe4On\\xb8\\xe2\\xa10\\x10j\\xee\\xce:\\xd0\\xa0g\\x9a\\x9eT;\\x94|\\x96\\x15f\\xd9[w53(=\\x05:4#\\xb5\\n6\\x0b\\x8az\\xe0S\\x8c|g4(\\xdc\\xfc\\xd5\\xaf\\xb3\\xab\\'\\x06\\x9f0\\x91T\\x9c\\x0cP\\t=i^2\\xad@\\xa6\\x80]\\xdd\\xa9q\\xc57i\\xa7\\xa84\\xc0\\x17\\xe6\\xca\\x91\\x9a\\x8a[P\\xc0\\xed\\xe2\\xac\\xaa\\xfd)\\xfe^FI\\xa9i\\x023\\xd2=\\x9c5K\\xbb\\x02\\xac\\x14Ry\\xa8\\xd9Uzb\\xb2p}\\x0bLj\\xeea\\xd6\\x95G\\xaf4\\xc6~8\\xa4\\x194\\xd4X]\\x13\\xae\\x07Jy\\x0bU\\xc0\\xf5\\xa9\\x06Z\\xa8\\x9b\\x8e\\x0e\\x01\\xe2\\x9e_\"\\xa3\\xf2\\x88\\xa5\\x0b\\xcd!\\xdcP\\xc6\\x9e\\x921\\xe0Sq\\xc5\\x01\\xb6\\x9ej\\xac+\\x92,\\x86&\\xce*Aw\\xf3\\x02j\\x06}\\xc3\\x02\\x99\\xb0\\xfab\\x93\\x8aasQn\"t\\xc1\\x035T\\xa0yp\\x07\\x15\\x04k\\x83\\xcdLX)\\x07\\xb8\\xa1%\\x14\\x03\\xa4\\xb4\\xee\\x0f\\x15\\x18\\x89T\\xf3\\x8aW\\xb8f\\x18\\xa8\\x19\\x99\\x8dKe$XgU\\xe9M\\xf3\\xcfj\\x87i\\xa0-4\\x04\\xc6R\\xd4\\xd2\\x0e)\\xa3\\x8a\\x19\\x8dP\\xae#6\\rI\\x1c\\x87\\x1cb\\xa0?7Z\\x10\\xed<\\xd0\\x82\\xe5\\xf5\\xb9\\x91\\x17\\xa7\\x15\\x04\\xf7{\\x89\\x04Q\\xf6\\x85\\xd9\\xc1\\xaar>\\xe6\\xcd[\\x13d\\xf1\\xbe\\x0f\\x03\\x9a%\\x93w8\\xa8\\xd1\\x81\\x03\\x14\\xaf\\x8e\\xd5\"\\xb0\\xc3\\x16\\xf1U\\xe4\\xb6e\\xe4U\\x84r\\x1b\\x9a\\x9d\\xdd6{\\xd0\\xca\\xe5\\xd0\\xc8e \\xf3O\\x8c\\xec95$\\x84\\x13Q\\xb0\\xcd\\x16$s\\xca\\x1a\\xa3\\xceM7i\\x06\\x9c\\xbcu\\xa1\\x01 \\xc0\\x14\\xd2\\x01\\x1cS\\x8b\\x02\\xbd\\xa9\\x82\\x98\\x81T\\n\\\\P\\x01\\xf4\\xa5^\\xbc\\xd0\\x17\\x1f\\x11\\xdbC\\x8e\\xf8\\xa9\\x11\\x01#\\x15ibF\\x8c\\x83\\x8c\\xd3\\xb0\\x19\\xdec)\\x04\\x1a\\x92I\\x84\\xaa3\\xd4S\\xa5\\xb6\\xdar:TM\\x19\\xa2\\xc3\\xbb\\x18\\xc3&\\x90g?J\\xb3\\x1c*\\xf1n\\'\\x91P\\xb4|d\\x1cR`!~y\\xa4\\xc6I=E7i8\\xf4\\xa7m1\\x9fj\\x10\\xd2\\x1f\\xb4\\x94\\xcd\\x157\\x98\\x9eF\\x08\\xe6\\x8a\\xab\\x05\\x8ez\\x9c\\xaa\\xccp\\x015j(\\x10\\x9c\\x91\\x9a\\xbd\\x0cj:(\\xa86r\\xb1J\\xdfM\\x9ab8\\n=M^M2(\\x7f\\xd6K\\x92;\\n]\\xc4\\x12\\x014\\x8a\\xa0\\xf5\\xa2\\xcc\\x8evH\\x0chp\\x88?\\x1ei\\xe1\\x0b\\xb6OJTE\\x15i\\x10c\\xa5;\\n\\xe4\\x1fdR:f\\x91!\\x08\\xdftU\\xa68\\x15\\x0fzv\\x1b\\x1c\\xcb\\xf2rj\\xac\\x99\\xed\\xcdX\\xeay\\xa62\\x8d\\xbd)\\t\\xb2\\x04lS\\x87$\\xd0Tf\\x90\\n\\x08\\xb82\\xd4d\\x1a\\x98R\\x95\\x14\\xec\\x17+\\x10i\\xca\\xa7\\x1cT\\x85FjD\\x03\\x8a\\x12\\x11\\x06\\xd3\\xdc\\x1a\\x00\\xab.\\xa0\\x0c\\xd4-@\\x06})\\x08\\xa5\\x1d)v\\x8c\\xd01b\\xfb\\xdc\\xd5\\x97\\xdb\\xb7\\x8e\\rW\\x00qK\\x92\\x0fZ@&\\xc3\\x9aQ$\\x8b\\xd0\\x9avx\\xa0Qk\\x803\\x129\\xa6\\xa9\\xe6\\x9c\\xe7\\x8a\\x8c\\x1a6\\x04M\\x9c\\x0e\\xd4\\xa9 \\xeej\\x02M0\\xf5\\xa0m\\x16Za\\x9e\\r/\\x9f\\xc7\\x02\\xab\\x81\\x9a\\x95@\\xa4\\x02\\xe5\\x9a\\x91\\x90\\x9e\\xb5:\\x8a\\r\\x17\\x02\\xbf\\x97\\x8az\\xaf\\x1cR\\x93\\xcd*\\xd3\\x10\\xd2)\\xcb\\xc1\\xa3\\xbd:\\x8b\\x00\\xf0r8\\xa60#\\xb59:S\\xc8\\xe9BB!\\xebOD\\xcfZR)\\xf1u\\xa6\\xd9I\\x0f\\x11(\\xa6\\x9d\\xa2\\xa5a\\xc5B\\xc3\\x15\\x95\\xca\\x10\\x9c\\xd4m\\xba\\xa4\\x14\\xb8\\xa7a\\\\\\x88\\x0c\\xf5\\xa5\\x00S\\xb1M<\\xd1\\xca;\\x92\\x04\\xc8\\xe2\\x91\\xa3 qK\\x11\\xa9\\\\|\\xb4l\\x05u\\x1f0\\x06\\xafEn\\x8e:\\n\\xcfs\\x8eEX\\x8aw\\x00`\\xd6\\x88Hu\\xc5\\xba\\xa7J\\xa2\\xfc\\x1cU\\xa9\\xe4b9\\xaa\\x84\\xf3E\\x84\\xc8\\xf9\\xcf4\\xd7\\x1cqN\\'\\x9akt\\xa0Dj\\xc4\\x1e\\xb4\\xff\\x000\\x9e\\xf5\\x13ph\\x14\\xac\\x04\\xbb\\xb1\\xd2\\x9a\\xd2\\x16\\x18\\xcd\\'jE\\x194X. \\x194\\xfd\\x82\\x8cb\\x96\\x9aB\\xb8\\xc2\\x82\\x98W\\x8a\\x90\\x9aP3\\xd6\\x8b\\x01\\x08\\x14\\xa4sOa\\x83\\xc5\\x18\\x14\\xec\\x02\\x01\\xc5\\x1brsO\\x1d\\x055\\xb8\\xe9H\\x04\\x0cS\\xa1\\xcdL\\xb3\\xe6\\xa0\\xa4\\xa0\\x0b\\xab0a\\x83L`\\x0eqU\\xd7\\xadHI\\xe2\\xa8\\x06\\xe0\\x8e\\x95\\x1bu\\xa9\\x88\\xe2\\x99\\xd4\\x8a\\x96\\x02\\xc40y\\xfdi\\xf7\\x05_\\x00R\\x95\\x18\\xaa\\xd2\\x13\\xbf\\x19\\xa5\\xb1A\\xb7\\x1d(\\xa4\\xdc}h\\xa5p\\xb9\\xff\\xd9'}"
            ]
          },
          "metadata": {
            "tags": []
          },
          "execution_count": 59
        }
      ]
    },
    {
      "cell_type": "markdown",
      "metadata": {
        "id": "eRy8lcOMXqi5",
        "colab_type": "text"
      },
      "source": [
        "Проверяем загрузку файлов"
      ]
    },
    {
      "cell_type": "code",
      "metadata": {
        "id": "Hig0d3VOBplC",
        "colab_type": "code",
        "colab": {
          "base_uri": "https://localhost:8080/",
          "height": 50
        },
        "outputId": "2e984757-b4ec-4f70-bcde-dbe184062d06"
      },
      "source": [
        "!ls"
      ],
      "execution_count": null,
      "outputs": [
        {
          "output_type": "stream",
          "text": [
            "'123 (1).jpg'   cat.jpg    igogo.jpg   mnb.jpg\t'poi (1).jpg'   sample_data\n",
            " 123.jpg        catt.jpg   kva.jpeg    nbv.jpg\t poi.jpg\n"
          ],
          "name": "stdout"
        }
      ]
    },
    {
      "cell_type": "markdown",
      "metadata": {
        "id": "Ep-7TkvbXunR",
        "colab_type": "text"
      },
      "source": [
        "**Смотрим загруженную картинку**"
      ]
    },
    {
      "cell_type": "code",
      "metadata": {
        "id": "DpEJyRjDXUuh",
        "colab_type": "code",
        "colab": {
          "base_uri": "https://localhost:8080/",
          "height": 330
        },
        "outputId": "c0ca9198-6b9c-4a8b-ac3e-288b3327c164"
      },
      "source": [
        "img_path = 'kva.jpg'\n",
        "img = image.load_img(img_path, target_size=(32, 32))\n",
        "plt.imshow(img)\n",
        "plt.show()"
      ],
      "execution_count": null,
      "outputs": [
        {
          "output_type": "error",
          "ename": "FileNotFoundError",
          "evalue": "ignored",
          "traceback": [
            "\u001b[0;31m---------------------------------------------------------------------------\u001b[0m",
            "\u001b[0;31mFileNotFoundError\u001b[0m                         Traceback (most recent call last)",
            "\u001b[0;32m<ipython-input-61-d842c7cd62d7>\u001b[0m in \u001b[0;36m<module>\u001b[0;34m()\u001b[0m\n\u001b[1;32m      1\u001b[0m \u001b[0mimg_path\u001b[0m \u001b[0;34m=\u001b[0m \u001b[0;34m'kva.jpg'\u001b[0m\u001b[0;34m\u001b[0m\u001b[0;34m\u001b[0m\u001b[0m\n\u001b[0;32m----> 2\u001b[0;31m \u001b[0mimg\u001b[0m \u001b[0;34m=\u001b[0m \u001b[0mimage\u001b[0m\u001b[0;34m.\u001b[0m\u001b[0mload_img\u001b[0m\u001b[0;34m(\u001b[0m\u001b[0mimg_path\u001b[0m\u001b[0;34m,\u001b[0m \u001b[0mtarget_size\u001b[0m\u001b[0;34m=\u001b[0m\u001b[0;34m(\u001b[0m\u001b[0;36m32\u001b[0m\u001b[0;34m,\u001b[0m \u001b[0;36m32\u001b[0m\u001b[0;34m)\u001b[0m\u001b[0;34m)\u001b[0m\u001b[0;34m\u001b[0m\u001b[0;34m\u001b[0m\u001b[0m\n\u001b[0m\u001b[1;32m      3\u001b[0m \u001b[0mplt\u001b[0m\u001b[0;34m.\u001b[0m\u001b[0mimshow\u001b[0m\u001b[0;34m(\u001b[0m\u001b[0mimg\u001b[0m\u001b[0;34m)\u001b[0m\u001b[0;34m\u001b[0m\u001b[0;34m\u001b[0m\u001b[0m\n\u001b[1;32m      4\u001b[0m \u001b[0mplt\u001b[0m\u001b[0;34m.\u001b[0m\u001b[0mshow\u001b[0m\u001b[0;34m(\u001b[0m\u001b[0;34m)\u001b[0m\u001b[0;34m\u001b[0m\u001b[0;34m\u001b[0m\u001b[0m\n",
            "\u001b[0;32m/usr/local/lib/python3.6/dist-packages/keras_preprocessing/image/utils.py\u001b[0m in \u001b[0;36mload_img\u001b[0;34m(path, grayscale, color_mode, target_size, interpolation)\u001b[0m\n\u001b[1;32m    111\u001b[0m         raise ImportError('Could not import PIL.Image. '\n\u001b[1;32m    112\u001b[0m                           'The use of `load_img` requires PIL.')\n\u001b[0;32m--> 113\u001b[0;31m     \u001b[0;32mwith\u001b[0m \u001b[0mopen\u001b[0m\u001b[0;34m(\u001b[0m\u001b[0mpath\u001b[0m\u001b[0;34m,\u001b[0m \u001b[0;34m'rb'\u001b[0m\u001b[0;34m)\u001b[0m \u001b[0;32mas\u001b[0m \u001b[0mf\u001b[0m\u001b[0;34m:\u001b[0m\u001b[0;34m\u001b[0m\u001b[0;34m\u001b[0m\u001b[0m\n\u001b[0m\u001b[1;32m    114\u001b[0m         \u001b[0mimg\u001b[0m \u001b[0;34m=\u001b[0m \u001b[0mpil_image\u001b[0m\u001b[0;34m.\u001b[0m\u001b[0mopen\u001b[0m\u001b[0;34m(\u001b[0m\u001b[0mio\u001b[0m\u001b[0;34m.\u001b[0m\u001b[0mBytesIO\u001b[0m\u001b[0;34m(\u001b[0m\u001b[0mf\u001b[0m\u001b[0;34m.\u001b[0m\u001b[0mread\u001b[0m\u001b[0;34m(\u001b[0m\u001b[0;34m)\u001b[0m\u001b[0;34m)\u001b[0m\u001b[0;34m)\u001b[0m\u001b[0;34m\u001b[0m\u001b[0;34m\u001b[0m\u001b[0m\n\u001b[1;32m    115\u001b[0m         \u001b[0;32mif\u001b[0m \u001b[0mcolor_mode\u001b[0m \u001b[0;34m==\u001b[0m \u001b[0;34m'grayscale'\u001b[0m\u001b[0;34m:\u001b[0m\u001b[0;34m\u001b[0m\u001b[0;34m\u001b[0m\u001b[0m\n",
            "\u001b[0;31mFileNotFoundError\u001b[0m: [Errno 2] No such file or directory: 'kva.jpg'"
          ]
        }
      ]
    },
    {
      "cell_type": "markdown",
      "metadata": {
        "id": "KTwbT6byXyrC",
        "colab_type": "text"
      },
      "source": [
        "**Преобразуем картинку в массив для распознавания**"
      ]
    },
    {
      "cell_type": "code",
      "metadata": {
        "id": "QTdXEhQ3X13R",
        "colab_type": "code",
        "colab": {}
      },
      "source": [
        "x = image.img_to_array(img)\n",
        "x /= 255\n",
        "x = np.expand_dims(x, axis=0)"
      ],
      "execution_count": null,
      "outputs": []
    },
    {
      "cell_type": "markdown",
      "metadata": {
        "id": "oeeqy0cjX7j6",
        "colab_type": "text"
      },
      "source": [
        "**Запускаем распознавание**"
      ]
    },
    {
      "cell_type": "code",
      "metadata": {
        "id": "cVIxQljlX-LZ",
        "colab_type": "code",
        "colab": {
          "base_uri": "https://localhost:8080/",
          "height": 34
        },
        "outputId": "0a7be40d-ecf2-45a8-999d-25515f7fd82f"
      },
      "source": [
        "prediction = model.predict(x)\n",
        "prediction = np.argmax(prediction)\n",
        "print(classes[prediction])"
      ],
      "execution_count": null,
      "outputs": [
        {
          "output_type": "stream",
          "text": [
            "лошадь\n"
          ],
          "name": "stdout"
        }
      ]
    }
  ]
}